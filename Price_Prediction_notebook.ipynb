{
  "nbformat": 4,
  "nbformat_minor": 0,
  "metadata": {
    "colab": {
      "provenance": [],
      "authorship_tag": "ABX9TyPG4J5s/4Swns5yqfVVC+Ii",
      "include_colab_link": true
    },
    "kernelspec": {
      "name": "python3",
      "display_name": "Python 3"
    },
    "language_info": {
      "name": "python"
    }
  },
  "cells": [
    {
      "cell_type": "markdown",
      "metadata": {
        "id": "view-in-github",
        "colab_type": "text"
      },
      "source": [
        "<a href=\"https://colab.research.google.com/github/toheedulhaq082/BTC_Price_Prediction_webapp/blob/main/Price_Prediction_notebook.ipynb\" target=\"_parent\"><img src=\"https://colab.research.google.com/assets/colab-badge.svg\" alt=\"Open In Colab\"/></a>"
      ]
    },
    {
      "cell_type": "code",
      "execution_count": null,
      "metadata": {
        "id": "W6RCUyKzzEwi"
      },
      "outputs": [],
      "source": [
        "import numpy as np\n",
        "import pandas as pd"
      ]
    },
    {
      "cell_type": "code",
      "source": [
        "df = pd.read_csv(\"/content/BTC-USD.csv\", index_col = False)"
      ],
      "metadata": {
        "id": "VKF6nPIJzN7V"
      },
      "execution_count": null,
      "outputs": []
    },
    {
      "cell_type": "code",
      "source": [
        "df.head(10)"
      ],
      "metadata": {
        "colab": {
          "base_uri": "https://localhost:8080/",
          "height": 363
        },
        "id": "GjgOg42Jz02f",
        "outputId": "5c80ee5a-1257-4a3d-b413-ec39ee60c638"
      },
      "execution_count": null,
      "outputs": [
        {
          "output_type": "execute_result",
          "data": {
            "text/plain": [
              "         Date         Open         High          Low        Close  \\\n",
              "0  2019-05-15  7989.374512  8216.423828  7899.106934  8205.167969   \n",
              "1  2019-05-16  8194.500977  8320.824219  7729.608398  7884.909180   \n",
              "2  2019-05-17  7886.925781  7929.145508  7038.124512  7343.895508   \n",
              "3  2019-05-18  7341.664551  7447.271973  7251.504395  7271.208008   \n",
              "4  2019-05-19  7267.962891  8261.941406  7267.962891  8197.689453   \n",
              "5  2019-05-20  8196.923828  8200.967773  7678.781738  7978.309082   \n",
              "6  2019-05-21  7977.969238  8062.167969  7843.339844  7963.327637   \n",
              "7  2019-05-22  7956.291992  7997.612305  7615.987305  7680.066406   \n",
              "8  2019-05-23  7677.269043  7943.791504  7533.196777  7881.846680   \n",
              "9  2019-05-24  7881.695313  8140.719727  7824.448730  7987.371582   \n",
              "\n",
              "     Adj Close       Volume  \n",
              "0  8205.167969  28344112920  \n",
              "1  7884.909180  33167197581  \n",
              "2  7343.895508  30066644905  \n",
              "3  7271.208008  21354286562  \n",
              "4  8197.689453  25902422040  \n",
              "5  7978.309082  23843404340  \n",
              "6  7963.327637  25127245056  \n",
              "7  7680.066406  24719473175  \n",
              "8  7881.846680  24457107820  \n",
              "9  7987.371582  25919126991  "
            ],
            "text/html": [
              "\n",
              "  <div id=\"df-4dce726d-9bb6-479a-95e8-6b9534f45aea\" class=\"colab-df-container\">\n",
              "    <div>\n",
              "<style scoped>\n",
              "    .dataframe tbody tr th:only-of-type {\n",
              "        vertical-align: middle;\n",
              "    }\n",
              "\n",
              "    .dataframe tbody tr th {\n",
              "        vertical-align: top;\n",
              "    }\n",
              "\n",
              "    .dataframe thead th {\n",
              "        text-align: right;\n",
              "    }\n",
              "</style>\n",
              "<table border=\"1\" class=\"dataframe\">\n",
              "  <thead>\n",
              "    <tr style=\"text-align: right;\">\n",
              "      <th></th>\n",
              "      <th>Date</th>\n",
              "      <th>Open</th>\n",
              "      <th>High</th>\n",
              "      <th>Low</th>\n",
              "      <th>Close</th>\n",
              "      <th>Adj Close</th>\n",
              "      <th>Volume</th>\n",
              "    </tr>\n",
              "  </thead>\n",
              "  <tbody>\n",
              "    <tr>\n",
              "      <th>0</th>\n",
              "      <td>2019-05-15</td>\n",
              "      <td>7989.374512</td>\n",
              "      <td>8216.423828</td>\n",
              "      <td>7899.106934</td>\n",
              "      <td>8205.167969</td>\n",
              "      <td>8205.167969</td>\n",
              "      <td>28344112920</td>\n",
              "    </tr>\n",
              "    <tr>\n",
              "      <th>1</th>\n",
              "      <td>2019-05-16</td>\n",
              "      <td>8194.500977</td>\n",
              "      <td>8320.824219</td>\n",
              "      <td>7729.608398</td>\n",
              "      <td>7884.909180</td>\n",
              "      <td>7884.909180</td>\n",
              "      <td>33167197581</td>\n",
              "    </tr>\n",
              "    <tr>\n",
              "      <th>2</th>\n",
              "      <td>2019-05-17</td>\n",
              "      <td>7886.925781</td>\n",
              "      <td>7929.145508</td>\n",
              "      <td>7038.124512</td>\n",
              "      <td>7343.895508</td>\n",
              "      <td>7343.895508</td>\n",
              "      <td>30066644905</td>\n",
              "    </tr>\n",
              "    <tr>\n",
              "      <th>3</th>\n",
              "      <td>2019-05-18</td>\n",
              "      <td>7341.664551</td>\n",
              "      <td>7447.271973</td>\n",
              "      <td>7251.504395</td>\n",
              "      <td>7271.208008</td>\n",
              "      <td>7271.208008</td>\n",
              "      <td>21354286562</td>\n",
              "    </tr>\n",
              "    <tr>\n",
              "      <th>4</th>\n",
              "      <td>2019-05-19</td>\n",
              "      <td>7267.962891</td>\n",
              "      <td>8261.941406</td>\n",
              "      <td>7267.962891</td>\n",
              "      <td>8197.689453</td>\n",
              "      <td>8197.689453</td>\n",
              "      <td>25902422040</td>\n",
              "    </tr>\n",
              "    <tr>\n",
              "      <th>5</th>\n",
              "      <td>2019-05-20</td>\n",
              "      <td>8196.923828</td>\n",
              "      <td>8200.967773</td>\n",
              "      <td>7678.781738</td>\n",
              "      <td>7978.309082</td>\n",
              "      <td>7978.309082</td>\n",
              "      <td>23843404340</td>\n",
              "    </tr>\n",
              "    <tr>\n",
              "      <th>6</th>\n",
              "      <td>2019-05-21</td>\n",
              "      <td>7977.969238</td>\n",
              "      <td>8062.167969</td>\n",
              "      <td>7843.339844</td>\n",
              "      <td>7963.327637</td>\n",
              "      <td>7963.327637</td>\n",
              "      <td>25127245056</td>\n",
              "    </tr>\n",
              "    <tr>\n",
              "      <th>7</th>\n",
              "      <td>2019-05-22</td>\n",
              "      <td>7956.291992</td>\n",
              "      <td>7997.612305</td>\n",
              "      <td>7615.987305</td>\n",
              "      <td>7680.066406</td>\n",
              "      <td>7680.066406</td>\n",
              "      <td>24719473175</td>\n",
              "    </tr>\n",
              "    <tr>\n",
              "      <th>8</th>\n",
              "      <td>2019-05-23</td>\n",
              "      <td>7677.269043</td>\n",
              "      <td>7943.791504</td>\n",
              "      <td>7533.196777</td>\n",
              "      <td>7881.846680</td>\n",
              "      <td>7881.846680</td>\n",
              "      <td>24457107820</td>\n",
              "    </tr>\n",
              "    <tr>\n",
              "      <th>9</th>\n",
              "      <td>2019-05-24</td>\n",
              "      <td>7881.695313</td>\n",
              "      <td>8140.719727</td>\n",
              "      <td>7824.448730</td>\n",
              "      <td>7987.371582</td>\n",
              "      <td>7987.371582</td>\n",
              "      <td>25919126991</td>\n",
              "    </tr>\n",
              "  </tbody>\n",
              "</table>\n",
              "</div>\n",
              "    <div class=\"colab-df-buttons\">\n",
              "\n",
              "  <div class=\"colab-df-container\">\n",
              "    <button class=\"colab-df-convert\" onclick=\"convertToInteractive('df-4dce726d-9bb6-479a-95e8-6b9534f45aea')\"\n",
              "            title=\"Convert this dataframe to an interactive table.\"\n",
              "            style=\"display:none;\">\n",
              "\n",
              "  <svg xmlns=\"http://www.w3.org/2000/svg\" height=\"24px\" viewBox=\"0 -960 960 960\">\n",
              "    <path d=\"M120-120v-720h720v720H120Zm60-500h600v-160H180v160Zm220 220h160v-160H400v160Zm0 220h160v-160H400v160ZM180-400h160v-160H180v160Zm440 0h160v-160H620v160ZM180-180h160v-160H180v160Zm440 0h160v-160H620v160Z\"/>\n",
              "  </svg>\n",
              "    </button>\n",
              "\n",
              "  <style>\n",
              "    .colab-df-container {\n",
              "      display:flex;\n",
              "      gap: 12px;\n",
              "    }\n",
              "\n",
              "    .colab-df-convert {\n",
              "      background-color: #E8F0FE;\n",
              "      border: none;\n",
              "      border-radius: 50%;\n",
              "      cursor: pointer;\n",
              "      display: none;\n",
              "      fill: #1967D2;\n",
              "      height: 32px;\n",
              "      padding: 0 0 0 0;\n",
              "      width: 32px;\n",
              "    }\n",
              "\n",
              "    .colab-df-convert:hover {\n",
              "      background-color: #E2EBFA;\n",
              "      box-shadow: 0px 1px 2px rgba(60, 64, 67, 0.3), 0px 1px 3px 1px rgba(60, 64, 67, 0.15);\n",
              "      fill: #174EA6;\n",
              "    }\n",
              "\n",
              "    .colab-df-buttons div {\n",
              "      margin-bottom: 4px;\n",
              "    }\n",
              "\n",
              "    [theme=dark] .colab-df-convert {\n",
              "      background-color: #3B4455;\n",
              "      fill: #D2E3FC;\n",
              "    }\n",
              "\n",
              "    [theme=dark] .colab-df-convert:hover {\n",
              "      background-color: #434B5C;\n",
              "      box-shadow: 0px 1px 3px 1px rgba(0, 0, 0, 0.15);\n",
              "      filter: drop-shadow(0px 1px 2px rgba(0, 0, 0, 0.3));\n",
              "      fill: #FFFFFF;\n",
              "    }\n",
              "  </style>\n",
              "\n",
              "    <script>\n",
              "      const buttonEl =\n",
              "        document.querySelector('#df-4dce726d-9bb6-479a-95e8-6b9534f45aea button.colab-df-convert');\n",
              "      buttonEl.style.display =\n",
              "        google.colab.kernel.accessAllowed ? 'block' : 'none';\n",
              "\n",
              "      async function convertToInteractive(key) {\n",
              "        const element = document.querySelector('#df-4dce726d-9bb6-479a-95e8-6b9534f45aea');\n",
              "        const dataTable =\n",
              "          await google.colab.kernel.invokeFunction('convertToInteractive',\n",
              "                                                    [key], {});\n",
              "        if (!dataTable) return;\n",
              "\n",
              "        const docLinkHtml = 'Like what you see? Visit the ' +\n",
              "          '<a target=\"_blank\" href=https://colab.research.google.com/notebooks/data_table.ipynb>data table notebook</a>'\n",
              "          + ' to learn more about interactive tables.';\n",
              "        element.innerHTML = '';\n",
              "        dataTable['output_type'] = 'display_data';\n",
              "        await google.colab.output.renderOutput(dataTable, element);\n",
              "        const docLink = document.createElement('div');\n",
              "        docLink.innerHTML = docLinkHtml;\n",
              "        element.appendChild(docLink);\n",
              "      }\n",
              "    </script>\n",
              "  </div>\n",
              "\n",
              "\n",
              "<div id=\"df-dd2c454c-bfe5-4054-9903-b1cc4a5dc049\">\n",
              "  <button class=\"colab-df-quickchart\" onclick=\"quickchart('df-dd2c454c-bfe5-4054-9903-b1cc4a5dc049')\"\n",
              "            title=\"Suggest charts\"\n",
              "            style=\"display:none;\">\n",
              "\n",
              "<svg xmlns=\"http://www.w3.org/2000/svg\" height=\"24px\"viewBox=\"0 0 24 24\"\n",
              "     width=\"24px\">\n",
              "    <g>\n",
              "        <path d=\"M19 3H5c-1.1 0-2 .9-2 2v14c0 1.1.9 2 2 2h14c1.1 0 2-.9 2-2V5c0-1.1-.9-2-2-2zM9 17H7v-7h2v7zm4 0h-2V7h2v10zm4 0h-2v-4h2v4z\"/>\n",
              "    </g>\n",
              "</svg>\n",
              "  </button>\n",
              "\n",
              "<style>\n",
              "  .colab-df-quickchart {\n",
              "      --bg-color: #E8F0FE;\n",
              "      --fill-color: #1967D2;\n",
              "      --hover-bg-color: #E2EBFA;\n",
              "      --hover-fill-color: #174EA6;\n",
              "      --disabled-fill-color: #AAA;\n",
              "      --disabled-bg-color: #DDD;\n",
              "  }\n",
              "\n",
              "  [theme=dark] .colab-df-quickchart {\n",
              "      --bg-color: #3B4455;\n",
              "      --fill-color: #D2E3FC;\n",
              "      --hover-bg-color: #434B5C;\n",
              "      --hover-fill-color: #FFFFFF;\n",
              "      --disabled-bg-color: #3B4455;\n",
              "      --disabled-fill-color: #666;\n",
              "  }\n",
              "\n",
              "  .colab-df-quickchart {\n",
              "    background-color: var(--bg-color);\n",
              "    border: none;\n",
              "    border-radius: 50%;\n",
              "    cursor: pointer;\n",
              "    display: none;\n",
              "    fill: var(--fill-color);\n",
              "    height: 32px;\n",
              "    padding: 0;\n",
              "    width: 32px;\n",
              "  }\n",
              "\n",
              "  .colab-df-quickchart:hover {\n",
              "    background-color: var(--hover-bg-color);\n",
              "    box-shadow: 0 1px 2px rgba(60, 64, 67, 0.3), 0 1px 3px 1px rgba(60, 64, 67, 0.15);\n",
              "    fill: var(--button-hover-fill-color);\n",
              "  }\n",
              "\n",
              "  .colab-df-quickchart-complete:disabled,\n",
              "  .colab-df-quickchart-complete:disabled:hover {\n",
              "    background-color: var(--disabled-bg-color);\n",
              "    fill: var(--disabled-fill-color);\n",
              "    box-shadow: none;\n",
              "  }\n",
              "\n",
              "  .colab-df-spinner {\n",
              "    border: 2px solid var(--fill-color);\n",
              "    border-color: transparent;\n",
              "    border-bottom-color: var(--fill-color);\n",
              "    animation:\n",
              "      spin 1s steps(1) infinite;\n",
              "  }\n",
              "\n",
              "  @keyframes spin {\n",
              "    0% {\n",
              "      border-color: transparent;\n",
              "      border-bottom-color: var(--fill-color);\n",
              "      border-left-color: var(--fill-color);\n",
              "    }\n",
              "    20% {\n",
              "      border-color: transparent;\n",
              "      border-left-color: var(--fill-color);\n",
              "      border-top-color: var(--fill-color);\n",
              "    }\n",
              "    30% {\n",
              "      border-color: transparent;\n",
              "      border-left-color: var(--fill-color);\n",
              "      border-top-color: var(--fill-color);\n",
              "      border-right-color: var(--fill-color);\n",
              "    }\n",
              "    40% {\n",
              "      border-color: transparent;\n",
              "      border-right-color: var(--fill-color);\n",
              "      border-top-color: var(--fill-color);\n",
              "    }\n",
              "    60% {\n",
              "      border-color: transparent;\n",
              "      border-right-color: var(--fill-color);\n",
              "    }\n",
              "    80% {\n",
              "      border-color: transparent;\n",
              "      border-right-color: var(--fill-color);\n",
              "      border-bottom-color: var(--fill-color);\n",
              "    }\n",
              "    90% {\n",
              "      border-color: transparent;\n",
              "      border-bottom-color: var(--fill-color);\n",
              "    }\n",
              "  }\n",
              "</style>\n",
              "\n",
              "  <script>\n",
              "    async function quickchart(key) {\n",
              "      const quickchartButtonEl =\n",
              "        document.querySelector('#' + key + ' button');\n",
              "      quickchartButtonEl.disabled = true;  // To prevent multiple clicks.\n",
              "      quickchartButtonEl.classList.add('colab-df-spinner');\n",
              "      try {\n",
              "        const charts = await google.colab.kernel.invokeFunction(\n",
              "            'suggestCharts', [key], {});\n",
              "      } catch (error) {\n",
              "        console.error('Error during call to suggestCharts:', error);\n",
              "      }\n",
              "      quickchartButtonEl.classList.remove('colab-df-spinner');\n",
              "      quickchartButtonEl.classList.add('colab-df-quickchart-complete');\n",
              "    }\n",
              "    (() => {\n",
              "      let quickchartButtonEl =\n",
              "        document.querySelector('#df-dd2c454c-bfe5-4054-9903-b1cc4a5dc049 button');\n",
              "      quickchartButtonEl.style.display =\n",
              "        google.colab.kernel.accessAllowed ? 'block' : 'none';\n",
              "    })();\n",
              "  </script>\n",
              "</div>\n",
              "\n",
              "    </div>\n",
              "  </div>\n"
            ],
            "application/vnd.google.colaboratory.intrinsic+json": {
              "type": "dataframe",
              "variable_name": "df",
              "summary": "{\n  \"name\": \"df\",\n  \"rows\": 1828,\n  \"fields\": [\n    {\n      \"column\": \"Date\",\n      \"properties\": {\n        \"dtype\": \"object\",\n        \"num_unique_values\": 1828,\n        \"samples\": [\n          \"2020-01-17\",\n          \"2022-11-28\",\n          \"2023-08-24\"\n        ],\n        \"semantic_type\": \"\",\n        \"description\": \"\"\n      }\n    },\n    {\n      \"column\": \"Open\",\n      \"properties\": {\n        \"dtype\": \"number\",\n        \"std\": 17312.403231440865,\n        \"min\": 5002.578125,\n        \"max\": 73079.375,\n        \"num_unique_values\": 1828,\n        \"samples\": [\n          8725.209961,\n          16440.222656,\n          26431.519531\n        ],\n        \"semantic_type\": \"\",\n        \"description\": \"\"\n      }\n    },\n    {\n      \"column\": \"High\",\n      \"properties\": {\n        \"dtype\": \"number\",\n        \"std\": 17746.617089098654,\n        \"min\": 5331.833984,\n        \"max\": 73750.070313,\n        \"num_unique_values\": 1828,\n        \"samples\": [\n          8958.12207,\n          16482.933594,\n          26554.910156\n        ],\n        \"semantic_type\": \"\",\n        \"description\": \"\"\n      }\n    },\n    {\n      \"column\": \"Low\",\n      \"properties\": {\n        \"dtype\": \"number\",\n        \"std\": 16818.665787876434,\n        \"min\": 4106.980957,\n        \"max\": 71334.09375,\n        \"num_unique_values\": 1827,\n        \"samples\": [\n          8677.316406,\n          16054.530273,\n          25914.925781\n        ],\n        \"semantic_type\": \"\",\n        \"description\": \"\"\n      }\n    },\n    {\n      \"column\": \"Close\",\n      \"properties\": {\n        \"dtype\": \"number\",\n        \"std\": 17322.424846346217,\n        \"min\": 4970.788086,\n        \"max\": 73083.5,\n        \"num_unique_values\": 1828,\n        \"samples\": [\n          8929.038086,\n          16217.322266,\n          26162.373047\n        ],\n        \"semantic_type\": \"\",\n        \"description\": \"\"\n      }\n    },\n    {\n      \"column\": \"Adj Close\",\n      \"properties\": {\n        \"dtype\": \"number\",\n        \"std\": 17322.424846346217,\n        \"min\": 4970.788086,\n        \"max\": 73083.5,\n        \"num_unique_values\": 1828,\n        \"samples\": [\n          8929.038086,\n          16217.322266,\n          26162.373047\n        ],\n        \"semantic_type\": \"\",\n        \"description\": \"\"\n      }\n    },\n    {\n      \"column\": \"Volume\",\n      \"properties\": {\n        \"dtype\": \"number\",\n        \"std\": 17861639615,\n        \"min\": 5331172801,\n        \"max\": 350967941479,\n        \"num_unique_values\": 1828,\n        \"samples\": [\n          36372139320,\n          27743025156,\n          12871532023\n        ],\n        \"semantic_type\": \"\",\n        \"description\": \"\"\n      }\n    }\n  ]\n}"
            }
          },
          "metadata": {},
          "execution_count": 8
        }
      ]
    },
    {
      "cell_type": "code",
      "source": [
        "new_df = df.reset_index()['Close']"
      ],
      "metadata": {
        "id": "yFXV8nfRz236"
      },
      "execution_count": null,
      "outputs": []
    },
    {
      "cell_type": "code",
      "source": [
        "new_df.head()"
      ],
      "metadata": {
        "colab": {
          "base_uri": "https://localhost:8080/"
        },
        "id": "Cn8Rk_Br0i86",
        "outputId": "3cffd837-d718-49eb-da1a-a6258a73e0b4"
      },
      "execution_count": null,
      "outputs": [
        {
          "output_type": "execute_result",
          "data": {
            "text/plain": [
              "0    8205.167969\n",
              "1    7884.909180\n",
              "2    7343.895508\n",
              "3    7271.208008\n",
              "4    8197.689453\n",
              "Name: Close, dtype: float64"
            ]
          },
          "metadata": {},
          "execution_count": 10
        }
      ]
    },
    {
      "cell_type": "code",
      "source": [
        "import matplotlib.pyplot as plt"
      ],
      "metadata": {
        "id": "jRmPg9782J-D"
      },
      "execution_count": null,
      "outputs": []
    },
    {
      "cell_type": "code",
      "source": [
        "plt.plot(new_df)"
      ],
      "metadata": {
        "colab": {
          "base_uri": "https://localhost:8080/",
          "height": 447
        },
        "id": "cTH_v-R408YH",
        "outputId": "91dd7a0e-403c-41ff-ce16-4b3cd4420775"
      },
      "execution_count": null,
      "outputs": [
        {
          "output_type": "execute_result",
          "data": {
            "text/plain": [
              "[<matplotlib.lines.Line2D at 0x7eed4b0b4f70>]"
            ]
          },
          "metadata": {},
          "execution_count": 12
        },
        {
          "output_type": "display_data",
          "data": {
            "text/plain": [
              "<Figure size 640x480 with 1 Axes>"
            ],
            "image/png": "[encoded data removed]"
          },
          "metadata": {}
        }
      ]
    },
    {
      "cell_type": "code",
      "source": [
        "new_df.shape"
      ],
      "metadata": {
        "colab": {
          "base_uri": "https://localhost:8080/"
        },
        "id": "rdW1zlY8mX8p",
        "outputId": "c7fef001-65d6-4776-efda-29084d9ec8a7"
      },
      "execution_count": null,
      "outputs": [
        {
          "output_type": "execute_result",
          "data": {
            "text/plain": [
              "(1828,)"
            ]
          },
          "metadata": {},
          "execution_count": 13
        }
      ]
    },
    {
      "cell_type": "code",
      "source": [
        "from sklearn.preprocessing import MinMaxScaler"
      ],
      "metadata": {
        "id": "qmQoyDEBpmwY"
      },
      "execution_count": null,
      "outputs": []
    },
    {
      "cell_type": "code",
      "source": [
        "scaler = MinMaxScaler(feature_range=(0,1))\n",
        "new_df =scaler.fit_transform(np.array(new_df).reshape(-1,1))"
      ],
      "metadata": {
        "id": "czxLaVm0pzEe"
      },
      "execution_count": null,
      "outputs": []
    },
    {
      "cell_type": "code",
      "source": [
        "new_df"
      ],
      "metadata": {
        "colab": {
          "base_uri": "https://localhost:8080/"
        },
        "id": "UVrDVfhOwcP9",
        "outputId": "4fd85a43-1670-4fc1-a647-7050daf644df"
      },
      "execution_count": null,
      "outputs": [
        {
          "output_type": "execute_result",
          "data": {
            "text/plain": [
              "array([[0.0474857 ],\n",
              "       [0.04278381],\n",
              "       [0.03484089],\n",
              "       ...,\n",
              "       [0.85051174],\n",
              "       [0.83071132],\n",
              "       [0.8668796 ]])"
            ]
          },
          "metadata": {},
          "execution_count": 11
        }
      ]
    },
    {
      "cell_type": "code",
      "source": [
        "plt.plot(new_df)"
      ],
      "metadata": {
        "colab": {
          "base_uri": "https://localhost:8080/",
          "height": 447
        },
        "id": "58LudpAlHabz",
        "outputId": "6ed1b752-f061-44cf-ede2-7b368dc04d2d"
      },
      "execution_count": null,
      "outputs": [
        {
          "output_type": "execute_result",
          "data": {
            "text/plain": [
              "[<matplotlib.lines.Line2D at 0x7eed3ad93400>]"
            ]
          },
          "metadata": {},
          "execution_count": 16
        },
        {
          "output_type": "display_data",
          "data": {
            "text/plain": [
              "<Figure size 640x480 with 1 Axes>"
            ],
            "image/png": "[encoded data removed]"
          },
          "metadata": {}
        }
      ]
    },
    {
      "cell_type": "code",
      "source": [
        "new_df.shape"
      ],
      "metadata": {
        "colab": {
          "base_uri": "https://localhost:8080/"
        },
        "id": "Y5gVeRa6qR0r",
        "outputId": "b73d50b6-6451-4949-d4d8-cf61f5dacec0"
      },
      "execution_count": null,
      "outputs": [
        {
          "output_type": "execute_result",
          "data": {
            "text/plain": [
              "(1828, 1)"
            ]
          },
          "metadata": {},
          "execution_count": 17
        }
      ]
    },
    {
      "cell_type": "code",
      "source": [
        "from sklearn.model_selection import train_test_split"
      ],
      "metadata": {
        "id": "QlB-0455HoDl"
      },
      "execution_count": null,
      "outputs": []
    },
    {
      "cell_type": "code",
      "source": [
        "##splitting dataset into train and test split\n",
        "training_size=int(len(new_df)*0.70)\n",
        "test_size=len(new_df)-training_size\n",
        "train_data, test_data=new_df[0:training_size,:],new_df[training_size: len(new_df),:1]"
      ],
      "metadata": {
        "id": "kBTGob7rmajw"
      },
      "execution_count": null,
      "outputs": []
    },
    {
      "cell_type": "code",
      "source": [
        "len(test_data)\n"
      ],
      "metadata": {
        "colab": {
          "base_uri": "https://localhost:8080/"
        },
        "id": "DKrAr0PX462v",
        "outputId": "574e91a1-36ab-4ec5-a00c-b9c9db16f634"
      },
      "execution_count": null,
      "outputs": [
        {
          "output_type": "execute_result",
          "data": {
            "text/plain": [
              "549"
            ]
          },
          "metadata": {},
          "execution_count": 20
        }
      ]
    },
    {
      "cell_type": "code",
      "source": [
        "# X_train, X_test, y_train, y_test = train_test_split(train_data, test_data, test_size=0.33, random_state=42)"
      ],
      "metadata": {
        "colab": {
          "base_uri": "https://localhost:8080/",
          "height": 287
        },
        "collapsed": true,
        "id": "4P67OsUsIHn-",
        "outputId": "a2771f3d-4b83-4fe6-bb78-f823fd512cb0"
      },
      "execution_count": null,
      "outputs": [
        {
          "output_type": "error",
          "ename": "ValueError",
          "evalue": "Found input variables with inconsistent numbers of samples: [1279, 549]",
          "traceback": [
            "\u001b[0;31m---------------------------------------------------------------------------\u001b[0m",
            "\u001b[0;31mValueError\u001b[0m                                Traceback (most recent call last)",
            "\u001b[0;32m<ipython-input-15-f68c48ccb6d3>\u001b[0m in \u001b[0;36m<cell line: 1>\u001b[0;34m()\u001b[0m\n\u001b[0;32m----> 1\u001b[0;31m \u001b[0mX_train\u001b[0m\u001b[0;34m,\u001b[0m \u001b[0mX_test\u001b[0m\u001b[0;34m,\u001b[0m \u001b[0my_train\u001b[0m\u001b[0;34m,\u001b[0m \u001b[0my_test\u001b[0m \u001b[0;34m=\u001b[0m \u001b[0mtrain_test_split\u001b[0m\u001b[0;34m(\u001b[0m\u001b[0mtrain_data\u001b[0m\u001b[0;34m,\u001b[0m \u001b[0mtest_data\u001b[0m\u001b[0;34m,\u001b[0m \u001b[0mtest_size\u001b[0m\u001b[0;34m=\u001b[0m\u001b[0;36m0.33\u001b[0m\u001b[0;34m,\u001b[0m \u001b[0mrandom_state\u001b[0m\u001b[0;34m=\u001b[0m\u001b[0;36m42\u001b[0m\u001b[0;34m)\u001b[0m\u001b[0;34m\u001b[0m\u001b[0;34m\u001b[0m\u001b[0m\n\u001b[0m",
            "\u001b[0;32m/usr/local/lib/python3.10/dist-packages/sklearn/model_selection/_split.py\u001b[0m in \u001b[0;36mtrain_test_split\u001b[0;34m(test_size, train_size, random_state, shuffle, stratify, *arrays)\u001b[0m\n\u001b[1;32m   2557\u001b[0m         \u001b[0;32mraise\u001b[0m \u001b[0mValueError\u001b[0m\u001b[0;34m(\u001b[0m\u001b[0;34m\"At least one array required as input\"\u001b[0m\u001b[0;34m)\u001b[0m\u001b[0;34m\u001b[0m\u001b[0;34m\u001b[0m\u001b[0m\n\u001b[1;32m   2558\u001b[0m \u001b[0;34m\u001b[0m\u001b[0m\n\u001b[0;32m-> 2559\u001b[0;31m     \u001b[0marrays\u001b[0m \u001b[0;34m=\u001b[0m \u001b[0mindexable\u001b[0m\u001b[0;34m(\u001b[0m\u001b[0;34m*\u001b[0m\u001b[0marrays\u001b[0m\u001b[0;34m)\u001b[0m\u001b[0;34m\u001b[0m\u001b[0;34m\u001b[0m\u001b[0m\n\u001b[0m\u001b[1;32m   2560\u001b[0m \u001b[0;34m\u001b[0m\u001b[0m\n\u001b[1;32m   2561\u001b[0m     \u001b[0mn_samples\u001b[0m \u001b[0;34m=\u001b[0m \u001b[0m_num_samples\u001b[0m\u001b[0;34m(\u001b[0m\u001b[0marrays\u001b[0m\u001b[0;34m[\u001b[0m\u001b[0;36m0\u001b[0m\u001b[0;34m]\u001b[0m\u001b[0;34m)\u001b[0m\u001b[0;34m\u001b[0m\u001b[0;34m\u001b[0m\u001b[0m\n",
            "\u001b[0;32m/usr/local/lib/python3.10/dist-packages/sklearn/utils/validation.py\u001b[0m in \u001b[0;36mindexable\u001b[0;34m(*iterables)\u001b[0m\n\u001b[1;32m    441\u001b[0m \u001b[0;34m\u001b[0m\u001b[0m\n\u001b[1;32m    442\u001b[0m     \u001b[0mresult\u001b[0m \u001b[0;34m=\u001b[0m \u001b[0;34m[\u001b[0m\u001b[0m_make_indexable\u001b[0m\u001b[0;34m(\u001b[0m\u001b[0mX\u001b[0m\u001b[0;34m)\u001b[0m \u001b[0;32mfor\u001b[0m \u001b[0mX\u001b[0m \u001b[0;32min\u001b[0m \u001b[0miterables\u001b[0m\u001b[0;34m]\u001b[0m\u001b[0;34m\u001b[0m\u001b[0;34m\u001b[0m\u001b[0m\n\u001b[0;32m--> 443\u001b[0;31m     \u001b[0mcheck_consistent_length\u001b[0m\u001b[0;34m(\u001b[0m\u001b[0;34m*\u001b[0m\u001b[0mresult\u001b[0m\u001b[0;34m)\u001b[0m\u001b[0;34m\u001b[0m\u001b[0;34m\u001b[0m\u001b[0m\n\u001b[0m\u001b[1;32m    444\u001b[0m     \u001b[0;32mreturn\u001b[0m \u001b[0mresult\u001b[0m\u001b[0;34m\u001b[0m\u001b[0;34m\u001b[0m\u001b[0m\n\u001b[1;32m    445\u001b[0m \u001b[0;34m\u001b[0m\u001b[0m\n",
            "\u001b[0;32m/usr/local/lib/python3.10/dist-packages/sklearn/utils/validation.py\u001b[0m in \u001b[0;36mcheck_consistent_length\u001b[0;34m(*arrays)\u001b[0m\n\u001b[1;32m    395\u001b[0m     \u001b[0muniques\u001b[0m \u001b[0;34m=\u001b[0m \u001b[0mnp\u001b[0m\u001b[0;34m.\u001b[0m\u001b[0munique\u001b[0m\u001b[0;34m(\u001b[0m\u001b[0mlengths\u001b[0m\u001b[0;34m)\u001b[0m\u001b[0;34m\u001b[0m\u001b[0;34m\u001b[0m\u001b[0m\n\u001b[1;32m    396\u001b[0m     \u001b[0;32mif\u001b[0m \u001b[0mlen\u001b[0m\u001b[0;34m(\u001b[0m\u001b[0muniques\u001b[0m\u001b[0;34m)\u001b[0m \u001b[0;34m>\u001b[0m \u001b[0;36m1\u001b[0m\u001b[0;34m:\u001b[0m\u001b[0;34m\u001b[0m\u001b[0;34m\u001b[0m\u001b[0m\n\u001b[0;32m--> 397\u001b[0;31m         raise ValueError(\n\u001b[0m\u001b[1;32m    398\u001b[0m             \u001b[0;34m\"Found input variables with inconsistent numbers of samples: %r\"\u001b[0m\u001b[0;34m\u001b[0m\u001b[0;34m\u001b[0m\u001b[0m\n\u001b[1;32m    399\u001b[0m             \u001b[0;34m%\u001b[0m \u001b[0;34m[\u001b[0m\u001b[0mint\u001b[0m\u001b[0;34m(\u001b[0m\u001b[0ml\u001b[0m\u001b[0;34m)\u001b[0m \u001b[0;32mfor\u001b[0m \u001b[0ml\u001b[0m \u001b[0;32min\u001b[0m \u001b[0mlengths\u001b[0m\u001b[0;34m]\u001b[0m\u001b[0;34m\u001b[0m\u001b[0;34m\u001b[0m\u001b[0m\n",
            "\u001b[0;31mValueError\u001b[0m: Found input variables with inconsistent numbers of samples: [1279, 549]"
          ]
        }
      ]
    },
    {
      "cell_type": "code",
      "source": [
        "# convert an array of values into a dataset matrix\n",
        "def create_dataset(dataset, time_step):\n",
        "     dataX, dataY = [], []\n",
        "     for i in range(len(dataset)-time_step-1):\n",
        "         a = dataset[i:(i+time_step), 0]\n",
        "         dataX.append(a)\n",
        "         dataY.append(dataset [i + time_step, 0])\n",
        "     return np.array(dataX), np.array(dataY)"
      ],
      "metadata": {
        "id": "rVn4l2kkpL08"
      },
      "execution_count": null,
      "outputs": []
    },
    {
      "cell_type": "code",
      "source": [
        "time_stamp = 100\n",
        "X_train, Y_train = create_dataset(train_data, time_stamp)\n",
        "X_test, Y_test = create_dataset(test_data, time_stamp)"
      ],
      "metadata": {
        "id": "btw2GndHpSOT"
      },
      "execution_count": null,
      "outputs": []
    },
    {
      "cell_type": "code",
      "source": [
        "X_train.shape, Y_train.shape"
      ],
      "metadata": {
        "colab": {
          "base_uri": "https://localhost:8080/"
        },
        "id": "Tqio321EtbGF",
        "outputId": "8fd85e94-d08b-49ed-b66a-2bc69b7d21f2"
      },
      "execution_count": null,
      "outputs": [
        {
          "output_type": "execute_result",
          "data": {
            "text/plain": [
              "((1178, 100), (1178,))"
            ]
          },
          "metadata": {},
          "execution_count": 23
        }
      ]
    },
    {
      "cell_type": "code",
      "source": [
        "X_test.shape, Y_test.shape"
      ],
      "metadata": {
        "colab": {
          "base_uri": "https://localhost:8080/"
        },
        "id": "dvrrhR6jtqbC",
        "outputId": "738fc55a-edae-4454-a47c-48dca4196cbc"
      },
      "execution_count": null,
      "outputs": [
        {
          "output_type": "execute_result",
          "data": {
            "text/plain": [
              "((448, 100), (448,))"
            ]
          },
          "metadata": {},
          "execution_count": 24
        }
      ]
    },
    {
      "cell_type": "code",
      "source": [
        "# reshape input to be [samples, time steps, features] which is required for LSTM\n",
        "X_train = X_train.reshape(X_train.shape[0],X_train.shape[1], 1)\n",
        "X_test = X_test.reshape(X_test.shape[0],X_test.shape[1], 1)"
      ],
      "metadata": {
        "id": "aRI5XJ9puM-r"
      },
      "execution_count": null,
      "outputs": []
    },
    {
      "cell_type": "code",
      "source": [
        "# import tensorflow as tf\n",
        "# from tensorflow import keras"
      ],
      "metadata": {
        "id": "oKdZvKxLRx0_"
      },
      "execution_count": null,
      "outputs": []
    },
    {
      "cell_type": "code",
      "source": [
        "import keras"
      ],
      "metadata": {
        "id": "HbIyhWhCuxcA"
      },
      "execution_count": null,
      "outputs": []
    },
    {
      "cell_type": "code",
      "source": [
        "pip install --upgrade keras"
      ],
      "metadata": {
        "colab": {
          "base_uri": "https://localhost:8080/",
          "height": 584
        },
        "id": "42D0qZm-RKD9",
        "outputId": "acda3e4d-7e4d-468e-b01d-aad42368074c"
      },
      "execution_count": null,
      "outputs": [
        {
          "output_type": "stream",
          "name": "stdout",
          "text": [
            "Requirement already satisfied: keras in /usr/local/lib/python3.10/dist-packages (2.15.0)\n",
            "Collecting keras\n",
            "  Downloading keras-3.3.3-py3-none-any.whl (1.1 MB)\n",
            "\u001b[2K     \u001b[90m━━━━━━━━━━━━━━━━━━━━━━━━━━━━━━━━━━━━━━━━\u001b[0m \u001b[32m1.1/1.1 MB\u001b[0m \u001b[31m5.9 MB/s\u001b[0m eta \u001b[36m0:00:00\u001b[0m\n",
            "\u001b[?25hRequirement already satisfied: absl-py in /usr/local/lib/python3.10/dist-packages (from keras) (1.4.0)\n",
            "Requirement already satisfied: numpy in /usr/local/lib/python3.10/dist-packages (from keras) (1.25.2)\n",
            "Requirement already satisfied: rich in /usr/local/lib/python3.10/dist-packages (from keras) (13.7.1)\n",
            "Collecting namex (from keras)\n",
            "  Downloading namex-0.0.8-py3-none-any.whl (5.8 kB)\n",
            "Requirement already satisfied: h5py in /usr/local/lib/python3.10/dist-packages (from keras) (3.9.0)\n",
            "Collecting optree (from keras)\n",
            "  Downloading optree-0.11.0-cp310-cp310-manylinux_2_17_x86_64.manylinux2014_x86_64.whl (311 kB)\n",
            "\u001b[2K     \u001b[90m━━━━━━━━━━━━━━━━━━━━━━━━━━━━━━━━━━━━━━━━\u001b[0m \u001b[32m311.2/311.2 kB\u001b[0m \u001b[31m29.8 MB/s\u001b[0m eta \u001b[36m0:00:00\u001b[0m\n",
            "\u001b[?25hRequirement already satisfied: ml-dtypes in /usr/local/lib/python3.10/dist-packages (from keras) (0.2.0)\n",
            "Requirement already satisfied: typing-extensions>=4.0.0 in /usr/local/lib/python3.10/dist-packages (from optree->keras) (4.11.0)\n",
            "Requirement already satisfied: markdown-it-py>=2.2.0 in /usr/local/lib/python3.10/dist-packages (from rich->keras) (3.0.0)\n",
            "Requirement already satisfied: pygments<3.0.0,>=2.13.0 in /usr/local/lib/python3.10/dist-packages (from rich->keras) (2.16.1)\n",
            "Requirement already satisfied: mdurl~=0.1 in /usr/local/lib/python3.10/dist-packages (from markdown-it-py>=2.2.0->rich->keras) (0.1.2)\n",
            "Installing collected packages: namex, optree, keras\n",
            "  Attempting uninstall: keras\n",
            "    Found existing installation: keras 2.15.0\n",
            "    Uninstalling keras-2.15.0:\n",
            "      Successfully uninstalled keras-2.15.0\n",
            "\u001b[31mERROR: pip's dependency resolver does not currently take into account all the packages that are installed. This behaviour is the source of the following dependency conflicts.\n",
            "tensorflow 2.15.0 requires keras<2.16,>=2.15.0, but you have keras 3.3.3 which is incompatible.\u001b[0m\u001b[31m\n",
            "\u001b[0mSuccessfully installed keras-3.3.3 namex-0.0.8 optree-0.11.0\n"
          ]
        },
        {
          "output_type": "display_data",
          "data": {
            "application/vnd.colab-display-data+json": {
              "pip_warning": {
                "packages": [
                  "keras"
                ]
              },
              "id": "b6fa49a4e17e49fd80b33a12ba01e021"
            }
          },
          "metadata": {}
        }
      ]
    },
    {
      "cell_type": "code",
      "source": [
        "import keras\n",
        "print(keras.__version__)"
      ],
      "metadata": {
        "colab": {
          "base_uri": "https://localhost:8080/"
        },
        "id": "hjICXbd_emL-",
        "outputId": "2c280f28-b248-45a9-f642-c3b16b7c5d6d"
      },
      "execution_count": null,
      "outputs": [
        {
          "output_type": "stream",
          "name": "stdout",
          "text": [
            "3.3.3\n"
          ]
        }
      ]
    },
    {
      "cell_type": "code",
      "source": [
        "from keras.models import Sequential\n",
        "from keras.layers import LSTM, Dense"
      ],
      "metadata": {
        "id": "pBAJqgNte1Go"
      },
      "execution_count": null,
      "outputs": []
    },
    {
      "cell_type": "code",
      "source": [
        "model = Sequential()\n",
        "model.add(LSTM(units = 50, return_sequences=True, activation = 'relu', input_shape=(100,1)))\n",
        "model.add(LSTM(units = 50, return_sequences=True, activation = 'relu',))\n",
        "model.add(LSTM(units = 50, activation = 'relu',))\n",
        "model.add(Dense(units = 1))\n",
        "model.compile(loss='mean_squared_error', optimizer='adam')"
      ],
      "metadata": {
        "id": "dbZTL-Tpu4-X",
        "colab": {
          "base_uri": "https://localhost:8080/"
        },
        "outputId": "647ae046-375d-43e2-e2b9-95268e347751"
      },
      "execution_count": null,
      "outputs": [
        {
          "output_type": "stream",
          "name": "stderr",
          "text": [
            "/usr/local/lib/python3.10/dist-packages/keras/src/layers/rnn/rnn.py:204: UserWarning: Do not pass an `input_shape`/`input_dim` argument to a layer. When using Sequential models, prefer using an `Input(shape)` object as the first layer in the model instead.\n",
            "  super().__init__(**kwargs)\n"
          ]
        }
      ]
    },
    {
      "cell_type": "code",
      "source": [
        "model.fit(X_train,Y_train, validation_data=(X_test,Y_test), epochs=100, batch_size=64, verbose=1)"
      ],
      "metadata": {
        "colab": {
          "base_uri": "https://localhost:8080/"
        },
        "id": "4HN-EacCv5bp",
        "outputId": "e9e3d8ac-2a2b-4c20-ca16-6b078059abeb"
      },
      "execution_count": null,
      "outputs": [
        {
          "output_type": "stream",
          "name": "stdout",
          "text": [
            "Epoch 1/100\n",
            "\u001b[1m19/19\u001b[0m \u001b[32m━━━━━━━━━━━━━━━━━━━━\u001b[0m\u001b[37m\u001b[0m \u001b[1m3s\u001b[0m 179ms/step - loss: 0.0020 - val_loss: 0.0023\n",
            "Epoch 2/100\n",
            "\u001b[1m19/19\u001b[0m \u001b[32m━━━━━━━━━━━━━━━━━━━━\u001b[0m\u001b[37m\u001b[0m \u001b[1m5s\u001b[0m 174ms/step - loss: 0.0020 - val_loss: 0.0015\n",
            "Epoch 3/100\n",
            "\u001b[1m19/19\u001b[0m \u001b[32m━━━━━━━━━━━━━━━━━━━━\u001b[0m\u001b[37m\u001b[0m \u001b[1m7s\u001b[0m 264ms/step - loss: 0.0019 - val_loss: 0.0014\n",
            "Epoch 4/100\n",
            "\u001b[1m19/19\u001b[0m \u001b[32m━━━━━━━━━━━━━━━━━━━━\u001b[0m\u001b[37m\u001b[0m \u001b[1m3s\u001b[0m 175ms/step - loss: 0.0022 - val_loss: 0.0014\n",
            "Epoch 5/100\n",
            "\u001b[1m19/19\u001b[0m \u001b[32m━━━━━━━━━━━━━━━━━━━━\u001b[0m\u001b[37m\u001b[0m \u001b[1m3s\u001b[0m 177ms/step - loss: 0.0020 - val_loss: 0.0015\n",
            "Epoch 6/100\n",
            "\u001b[1m19/19\u001b[0m \u001b[32m━━━━━━━━━━━━━━━━━━━━\u001b[0m\u001b[37m\u001b[0m \u001b[1m7s\u001b[0m 265ms/step - loss: 0.0016 - val_loss: 0.0019\n",
            "Epoch 7/100\n",
            "\u001b[1m19/19\u001b[0m \u001b[32m━━━━━━━━━━━━━━━━━━━━\u001b[0m\u001b[37m\u001b[0m \u001b[1m4s\u001b[0m 176ms/step - loss: 0.0016 - val_loss: 0.0021\n",
            "Epoch 8/100\n",
            "\u001b[1m19/19\u001b[0m \u001b[32m━━━━━━━━━━━━━━━━━━━━\u001b[0m\u001b[37m\u001b[0m \u001b[1m3s\u001b[0m 177ms/step - loss: 0.0017 - val_loss: 0.0013\n",
            "Epoch 9/100\n",
            "\u001b[1m19/19\u001b[0m \u001b[32m━━━━━━━━━━━━━━━━━━━━\u001b[0m\u001b[37m\u001b[0m \u001b[1m7s\u001b[0m 275ms/step - loss: 0.0016 - val_loss: 0.0013\n",
            "Epoch 10/100\n",
            "\u001b[1m19/19\u001b[0m \u001b[32m━━━━━━━━━━━━━━━━━━━━\u001b[0m\u001b[37m\u001b[0m \u001b[1m3s\u001b[0m 185ms/step - loss: 0.0018 - val_loss: 0.0012\n",
            "Epoch 11/100\n",
            "\u001b[1m19/19\u001b[0m \u001b[32m━━━━━━━━━━━━━━━━━━━━\u001b[0m\u001b[37m\u001b[0m \u001b[1m3s\u001b[0m 179ms/step - loss: 0.0016 - val_loss: 0.0012\n",
            "Epoch 12/100\n",
            "\u001b[1m19/19\u001b[0m \u001b[32m━━━━━━━━━━━━━━━━━━━━\u001b[0m\u001b[37m\u001b[0m \u001b[1m6s\u001b[0m 255ms/step - loss: 0.0016 - val_loss: 0.0012\n",
            "Epoch 13/100\n",
            "\u001b[1m19/19\u001b[0m \u001b[32m━━━━━━━━━━━━━━━━━━━━\u001b[0m\u001b[37m\u001b[0m \u001b[1m3s\u001b[0m 175ms/step - loss: 0.0015 - val_loss: 0.0012\n",
            "Epoch 14/100\n",
            "\u001b[1m19/19\u001b[0m \u001b[32m━━━━━━━━━━━━━━━━━━━━\u001b[0m\u001b[37m\u001b[0m \u001b[1m5s\u001b[0m 176ms/step - loss: 0.0013 - val_loss: 0.0012\n",
            "Epoch 15/100\n",
            "\u001b[1m19/19\u001b[0m \u001b[32m━━━━━━━━━━━━━━━━━━━━\u001b[0m\u001b[37m\u001b[0m \u001b[1m7s\u001b[0m 248ms/step - loss: 0.0014 - val_loss: 9.9255e-04\n",
            "Epoch 16/100\n",
            "\u001b[1m19/19\u001b[0m \u001b[32m━━━━━━━━━━━━━━━━━━━━\u001b[0m\u001b[37m\u001b[0m \u001b[1m4s\u001b[0m 179ms/step - loss: 0.0014 - val_loss: 0.0021\n",
            "Epoch 17/100\n",
            "\u001b[1m19/19\u001b[0m \u001b[32m━━━━━━━━━━━━━━━━━━━━\u001b[0m\u001b[37m\u001b[0m \u001b[1m5s\u001b[0m 175ms/step - loss: 0.0013 - val_loss: 0.0016\n",
            "Epoch 18/100\n",
            "\u001b[1m19/19\u001b[0m \u001b[32m━━━━━━━━━━━━━━━━━━━━\u001b[0m\u001b[37m\u001b[0m \u001b[1m5s\u001b[0m 176ms/step - loss: 0.0013 - val_loss: 0.0011\n",
            "Epoch 19/100\n",
            "\u001b[1m19/19\u001b[0m \u001b[32m━━━━━━━━━━━━━━━━━━━━\u001b[0m\u001b[37m\u001b[0m \u001b[1m3s\u001b[0m 175ms/step - loss: 0.0010 - val_loss: 9.1644e-04\n",
            "Epoch 20/100\n",
            "\u001b[1m19/19\u001b[0m \u001b[32m━━━━━━━━━━━━━━━━━━━━\u001b[0m\u001b[37m\u001b[0m \u001b[1m6s\u001b[0m 239ms/step - loss: 0.0010 - val_loss: 8.9267e-04\n",
            "Epoch 21/100\n",
            "\u001b[1m19/19\u001b[0m \u001b[32m━━━━━━━━━━━━━━━━━━━━\u001b[0m\u001b[37m\u001b[0m \u001b[1m4s\u001b[0m 176ms/step - loss: 0.0012 - val_loss: 8.7856e-04\n",
            "Epoch 22/100\n",
            "\u001b[1m19/19\u001b[0m \u001b[32m━━━━━━━━━━━━━━━━━━━━\u001b[0m\u001b[37m\u001b[0m \u001b[1m3s\u001b[0m 175ms/step - loss: 0.0011 - val_loss: 0.0016\n",
            "Epoch 23/100\n",
            "\u001b[1m19/19\u001b[0m \u001b[32m━━━━━━━━━━━━━━━━━━━━\u001b[0m\u001b[37m\u001b[0m \u001b[1m6s\u001b[0m 249ms/step - loss: 0.0011 - val_loss: 0.0019\n",
            "Epoch 24/100\n",
            "\u001b[1m19/19\u001b[0m \u001b[32m━━━━━━━━━━━━━━━━━━━━\u001b[0m\u001b[37m\u001b[0m \u001b[1m4s\u001b[0m 176ms/step - loss: 0.0012 - val_loss: 8.5410e-04\n",
            "Epoch 25/100\n",
            "\u001b[1m19/19\u001b[0m \u001b[32m━━━━━━━━━━━━━━━━━━━━\u001b[0m\u001b[37m\u001b[0m \u001b[1m5s\u001b[0m 177ms/step - loss: 9.6644e-04 - val_loss: 8.8828e-04\n",
            "Epoch 26/100\n",
            "\u001b[1m19/19\u001b[0m \u001b[32m━━━━━━━━━━━━━━━━━━━━\u001b[0m\u001b[37m\u001b[0m \u001b[1m6s\u001b[0m 225ms/step - loss: 0.0010 - val_loss: 8.2567e-04\n",
            "Epoch 27/100\n",
            "\u001b[1m19/19\u001b[0m \u001b[32m━━━━━━━━━━━━━━━━━━━━\u001b[0m\u001b[37m\u001b[0m \u001b[1m4s\u001b[0m 180ms/step - loss: 8.5869e-04 - val_loss: 0.0012\n",
            "Epoch 28/100\n",
            "\u001b[1m19/19\u001b[0m \u001b[32m━━━━━━━━━━━━━━━━━━━━\u001b[0m\u001b[37m\u001b[0m \u001b[1m6s\u001b[0m 222ms/step - loss: 9.0146e-04 - val_loss: 6.9040e-04\n",
            "Epoch 29/100\n",
            "\u001b[1m19/19\u001b[0m \u001b[32m━━━━━━━━━━━━━━━━━━━━\u001b[0m\u001b[37m\u001b[0m \u001b[1m4s\u001b[0m 225ms/step - loss: 8.2554e-04 - val_loss: 9.5553e-04\n",
            "Epoch 30/100\n",
            "\u001b[1m19/19\u001b[0m \u001b[32m━━━━━━━━━━━━━━━━━━━━\u001b[0m\u001b[37m\u001b[0m \u001b[1m3s\u001b[0m 180ms/step - loss: 8.1546e-04 - val_loss: 7.4996e-04\n",
            "Epoch 31/100\n",
            "\u001b[1m19/19\u001b[0m \u001b[32m━━━━━━━━━━━━━━━━━━━━\u001b[0m\u001b[37m\u001b[0m \u001b[1m3s\u001b[0m 182ms/step - loss: 8.6253e-04 - val_loss: 6.0584e-04\n",
            "Epoch 32/100\n",
            "\u001b[1m19/19\u001b[0m \u001b[32m━━━━━━━━━━━━━━━━━━━━\u001b[0m\u001b[37m\u001b[0m \u001b[1m6s\u001b[0m 335ms/step - loss: 8.1909e-04 - val_loss: 6.6877e-04\n",
            "Epoch 33/100\n",
            "\u001b[1m19/19\u001b[0m \u001b[32m━━━━━━━━━━━━━━━━━━━━\u001b[0m\u001b[37m\u001b[0m \u001b[1m4s\u001b[0m 202ms/step - loss: 6.9108e-04 - val_loss: 6.0938e-04\n",
            "Epoch 34/100\n",
            "\u001b[1m19/19\u001b[0m \u001b[32m━━━━━━━━━━━━━━━━━━━━\u001b[0m\u001b[37m\u001b[0m \u001b[1m5s\u001b[0m 180ms/step - loss: 7.0445e-04 - val_loss: 6.0808e-04\n",
            "Epoch 35/100\n",
            "\u001b[1m19/19\u001b[0m \u001b[32m━━━━━━━━━━━━━━━━━━━━\u001b[0m\u001b[37m\u001b[0m \u001b[1m7s\u001b[0m 269ms/step - loss: 6.5280e-04 - val_loss: 6.9314e-04\n",
            "Epoch 36/100\n",
            "\u001b[1m19/19\u001b[0m \u001b[32m━━━━━━━━━━━━━━━━━━━━\u001b[0m\u001b[37m\u001b[0m \u001b[1m4s\u001b[0m 182ms/step - loss: 7.4168e-04 - val_loss: 6.1605e-04\n",
            "Epoch 37/100\n",
            "\u001b[1m19/19\u001b[0m \u001b[32m━━━━━━━━━━━━━━━━━━━━\u001b[0m\u001b[37m\u001b[0m \u001b[1m5s\u001b[0m 184ms/step - loss: 6.9157e-04 - val_loss: 8.5124e-04\n",
            "Epoch 38/100\n",
            "\u001b[1m19/19\u001b[0m \u001b[32m━━━━━━━━━━━━━━━━━━━━\u001b[0m\u001b[37m\u001b[0m \u001b[1m7s\u001b[0m 268ms/step - loss: 7.1115e-04 - val_loss: 5.5039e-04\n",
            "Epoch 39/100\n",
            "\u001b[1m19/19\u001b[0m \u001b[32m━━━━━━━━━━━━━━━━━━━━\u001b[0m\u001b[37m\u001b[0m \u001b[1m3s\u001b[0m 180ms/step - loss: 6.7987e-04 - val_loss: 5.9037e-04\n",
            "Epoch 40/100\n",
            "\u001b[1m19/19\u001b[0m \u001b[32m━━━━━━━━━━━━━━━━━━━━\u001b[0m\u001b[37m\u001b[0m \u001b[1m5s\u001b[0m 177ms/step - loss: 6.6627e-04 - val_loss: 6.4467e-04\n",
            "Epoch 41/100\n",
            "\u001b[1m19/19\u001b[0m \u001b[32m━━━━━━━━━━━━━━━━━━━━\u001b[0m\u001b[37m\u001b[0m \u001b[1m5s\u001b[0m 261ms/step - loss: 6.0576e-04 - val_loss: 5.4841e-04\n",
            "Epoch 42/100\n",
            "\u001b[1m19/19\u001b[0m \u001b[32m━━━━━━━━━━━━━━━━━━━━\u001b[0m\u001b[37m\u001b[0m \u001b[1m3s\u001b[0m 180ms/step - loss: 7.1776e-04 - val_loss: 6.7513e-04\n",
            "Epoch 43/100\n",
            "\u001b[1m19/19\u001b[0m \u001b[32m━━━━━━━━━━━━━━━━━━━━\u001b[0m\u001b[37m\u001b[0m \u001b[1m5s\u001b[0m 177ms/step - loss: 5.9498e-04 - val_loss: 4.3793e-04\n",
            "Epoch 44/100\n",
            "\u001b[1m19/19\u001b[0m \u001b[32m━━━━━━━━━━━━━━━━━━━━\u001b[0m\u001b[37m\u001b[0m \u001b[1m5s\u001b[0m 261ms/step - loss: 6.4864e-04 - val_loss: 4.9375e-04\n",
            "Epoch 45/100\n",
            "\u001b[1m19/19\u001b[0m \u001b[32m━━━━━━━━━━━━━━━━━━━━\u001b[0m\u001b[37m\u001b[0m \u001b[1m4s\u001b[0m 178ms/step - loss: 5.8407e-04 - val_loss: 5.3596e-04\n",
            "Epoch 46/100\n",
            "\u001b[1m19/19\u001b[0m \u001b[32m━━━━━━━━━━━━━━━━━━━━\u001b[0m\u001b[37m\u001b[0m \u001b[1m3s\u001b[0m 177ms/step - loss: 6.1015e-04 - val_loss: 8.2385e-04\n",
            "Epoch 47/100\n",
            "\u001b[1m19/19\u001b[0m \u001b[32m━━━━━━━━━━━━━━━━━━━━\u001b[0m\u001b[37m\u001b[0m \u001b[1m7s\u001b[0m 259ms/step - loss: 6.7458e-04 - val_loss: 5.9059e-04\n",
            "Epoch 48/100\n",
            "\u001b[1m19/19\u001b[0m \u001b[32m━━━━━━━━━━━━━━━━━━━━\u001b[0m\u001b[37m\u001b[0m \u001b[1m3s\u001b[0m 179ms/step - loss: 6.1614e-04 - val_loss: 5.0268e-04\n",
            "Epoch 49/100\n",
            "\u001b[1m19/19\u001b[0m \u001b[32m━━━━━━━━━━━━━━━━━━━━\u001b[0m\u001b[37m\u001b[0m \u001b[1m5s\u001b[0m 179ms/step - loss: 6.0883e-04 - val_loss: 7.0299e-04\n",
            "Epoch 50/100\n",
            "\u001b[1m19/19\u001b[0m \u001b[32m━━━━━━━━━━━━━━━━━━━━\u001b[0m\u001b[37m\u001b[0m \u001b[1m7s\u001b[0m 258ms/step - loss: 7.8438e-04 - val_loss: 6.1894e-04\n",
            "Epoch 51/100\n",
            "\u001b[1m19/19\u001b[0m \u001b[32m━━━━━━━━━━━━━━━━━━━━\u001b[0m\u001b[37m\u001b[0m \u001b[1m4s\u001b[0m 179ms/step - loss: 5.7903e-04 - val_loss: 6.1184e-04\n",
            "Epoch 52/100\n",
            "\u001b[1m19/19\u001b[0m \u001b[32m━━━━━━━━━━━━━━━━━━━━\u001b[0m\u001b[37m\u001b[0m \u001b[1m3s\u001b[0m 179ms/step - loss: 5.5087e-04 - val_loss: 4.7962e-04\n",
            "Epoch 53/100\n",
            "\u001b[1m19/19\u001b[0m \u001b[32m━━━━━━━━━━━━━━━━━━━━\u001b[0m\u001b[37m\u001b[0m \u001b[1m7s\u001b[0m 255ms/step - loss: 5.0457e-04 - val_loss: 4.1134e-04\n",
            "Epoch 54/100\n",
            "\u001b[1m19/19\u001b[0m \u001b[32m━━━━━━━━━━━━━━━━━━━━\u001b[0m\u001b[37m\u001b[0m \u001b[1m3s\u001b[0m 180ms/step - loss: 4.9049e-04 - val_loss: 9.6092e-04\n",
            "Epoch 55/100\n",
            "\u001b[1m19/19\u001b[0m \u001b[32m━━━━━━━━━━━━━━━━━━━━\u001b[0m\u001b[37m\u001b[0m \u001b[1m5s\u001b[0m 180ms/step - loss: 5.9584e-04 - val_loss: 7.0310e-04\n",
            "Epoch 56/100\n",
            "\u001b[1m19/19\u001b[0m \u001b[32m━━━━━━━━━━━━━━━━━━━━\u001b[0m\u001b[37m\u001b[0m \u001b[1m6s\u001b[0m 212ms/step - loss: 5.5228e-04 - val_loss: 9.6365e-04\n",
            "Epoch 57/100\n",
            "\u001b[1m19/19\u001b[0m \u001b[32m━━━━━━━━━━━━━━━━━━━━\u001b[0m\u001b[37m\u001b[0m \u001b[1m4s\u001b[0m 179ms/step - loss: 7.6181e-04 - val_loss: 0.0012\n",
            "Epoch 58/100\n",
            "\u001b[1m19/19\u001b[0m \u001b[32m━━━━━━━━━━━━━━━━━━━━\u001b[0m\u001b[37m\u001b[0m \u001b[1m6s\u001b[0m 252ms/step - loss: 6.6362e-04 - val_loss: 5.3798e-04\n",
            "Epoch 59/100\n",
            "\u001b[1m19/19\u001b[0m \u001b[32m━━━━━━━━━━━━━━━━━━━━\u001b[0m\u001b[37m\u001b[0m \u001b[1m4s\u001b[0m 179ms/step - loss: 5.2162e-04 - val_loss: 3.7936e-04\n",
            "Epoch 60/100\n",
            "\u001b[1m19/19\u001b[0m \u001b[32m━━━━━━━━━━━━━━━━━━━━\u001b[0m\u001b[37m\u001b[0m \u001b[1m3s\u001b[0m 178ms/step - loss: 5.0172e-04 - val_loss: 4.3755e-04\n",
            "Epoch 61/100\n",
            "\u001b[1m19/19\u001b[0m \u001b[32m━━━━━━━━━━━━━━━━━━━━\u001b[0m\u001b[37m\u001b[0m \u001b[1m4s\u001b[0m 189ms/step - loss: 5.3811e-04 - val_loss: 0.0021\n",
            "Epoch 62/100\n",
            "\u001b[1m19/19\u001b[0m \u001b[32m━━━━━━━━━━━━━━━━━━━━\u001b[0m\u001b[37m\u001b[0m \u001b[1m5s\u001b[0m 177ms/step - loss: 7.9502e-04 - val_loss: 3.8369e-04\n",
            "Epoch 63/100\n",
            "\u001b[1m19/19\u001b[0m \u001b[32m━━━━━━━━━━━━━━━━━━━━\u001b[0m\u001b[37m\u001b[0m \u001b[1m5s\u001b[0m 179ms/step - loss: 5.4752e-04 - val_loss: 3.7325e-04\n",
            "Epoch 64/100\n",
            "\u001b[1m19/19\u001b[0m \u001b[32m━━━━━━━━━━━━━━━━━━━━\u001b[0m\u001b[37m\u001b[0m \u001b[1m7s\u001b[0m 256ms/step - loss: 5.0169e-04 - val_loss: 7.4436e-04\n",
            "Epoch 65/100\n",
            "\u001b[1m19/19\u001b[0m \u001b[32m━━━━━━━━━━━━━━━━━━━━\u001b[0m\u001b[37m\u001b[0m \u001b[1m4s\u001b[0m 180ms/step - loss: 5.4874e-04 - val_loss: 5.5034e-04\n",
            "Epoch 66/100\n",
            "\u001b[1m19/19\u001b[0m \u001b[32m━━━━━━━━━━━━━━━━━━━━\u001b[0m\u001b[37m\u001b[0m \u001b[1m5s\u001b[0m 181ms/step - loss: 6.4459e-04 - val_loss: 8.3333e-04\n",
            "Epoch 67/100\n",
            "\u001b[1m19/19\u001b[0m \u001b[32m━━━━━━━━━━━━━━━━━━━━\u001b[0m\u001b[37m\u001b[0m \u001b[1m5s\u001b[0m 263ms/step - loss: 5.9817e-04 - val_loss: 4.2898e-04\n",
            "Epoch 68/100\n",
            "\u001b[1m19/19\u001b[0m \u001b[32m━━━━━━━━━━━━━━━━━━━━\u001b[0m\u001b[37m\u001b[0m \u001b[1m4s\u001b[0m 179ms/step - loss: 5.1239e-04 - val_loss: 5.0683e-04\n",
            "Epoch 69/100\n",
            "\u001b[1m19/19\u001b[0m \u001b[32m━━━━━━━━━━━━━━━━━━━━\u001b[0m\u001b[37m\u001b[0m \u001b[1m5s\u001b[0m 179ms/step - loss: 4.6739e-04 - val_loss: 5.4125e-04\n",
            "Epoch 70/100\n",
            "\u001b[1m19/19\u001b[0m \u001b[32m━━━━━━━━━━━━━━━━━━━━\u001b[0m\u001b[37m\u001b[0m \u001b[1m6s\u001b[0m 206ms/step - loss: 4.5555e-04 - val_loss: 5.7216e-04\n",
            "Epoch 71/100\n",
            "\u001b[1m19/19\u001b[0m \u001b[32m━━━━━━━━━━━━━━━━━━━━\u001b[0m\u001b[37m\u001b[0m \u001b[1m5s\u001b[0m 181ms/step - loss: 5.2441e-04 - val_loss: 4.1997e-04\n",
            "Epoch 72/100\n",
            "\u001b[1m19/19\u001b[0m \u001b[32m━━━━━━━━━━━━━━━━━━━━\u001b[0m\u001b[37m\u001b[0m \u001b[1m6s\u001b[0m 255ms/step - loss: 4.9924e-04 - val_loss: 6.5671e-04\n",
            "Epoch 73/100\n",
            "\u001b[1m19/19\u001b[0m \u001b[32m━━━━━━━━━━━━━━━━━━━━\u001b[0m\u001b[37m\u001b[0m \u001b[1m4s\u001b[0m 192ms/step - loss: 4.6296e-04 - val_loss: 3.6182e-04\n",
            "Epoch 74/100\n",
            "\u001b[1m19/19\u001b[0m \u001b[32m━━━━━━━━━━━━━━━━━━━━\u001b[0m\u001b[37m\u001b[0m \u001b[1m5s\u001b[0m 178ms/step - loss: 4.7964e-04 - val_loss: 3.5457e-04\n",
            "Epoch 75/100\n",
            "\u001b[1m19/19\u001b[0m \u001b[32m━━━━━━━━━━━━━━━━━━━━\u001b[0m\u001b[37m\u001b[0m \u001b[1m7s\u001b[0m 261ms/step - loss: 4.1030e-04 - val_loss: 4.6429e-04\n",
            "Epoch 76/100\n",
            "\u001b[1m19/19\u001b[0m \u001b[32m━━━━━━━━━━━━━━━━━━━━\u001b[0m\u001b[37m\u001b[0m \u001b[1m3s\u001b[0m 177ms/step - loss: 4.4179e-04 - val_loss: 7.4982e-04\n",
            "Epoch 77/100\n",
            "\u001b[1m19/19\u001b[0m \u001b[32m━━━━━━━━━━━━━━━━━━━━\u001b[0m\u001b[37m\u001b[0m \u001b[1m5s\u001b[0m 176ms/step - loss: 5.0530e-04 - val_loss: 6.9305e-04\n",
            "Epoch 78/100\n",
            "\u001b[1m19/19\u001b[0m \u001b[32m━━━━━━━━━━━━━━━━━━━━\u001b[0m\u001b[37m\u001b[0m \u001b[1m6s\u001b[0m 199ms/step - loss: 4.7868e-04 - val_loss: 3.5750e-04\n",
            "Epoch 79/100\n",
            "\u001b[1m19/19\u001b[0m \u001b[32m━━━━━━━━━━━━━━━━━━━━\u001b[0m\u001b[37m\u001b[0m \u001b[1m5s\u001b[0m 181ms/step - loss: 4.5527e-04 - val_loss: 4.8960e-04\n",
            "Epoch 80/100\n",
            "\u001b[1m19/19\u001b[0m \u001b[32m━━━━━━━━━━━━━━━━━━━━\u001b[0m\u001b[37m\u001b[0m \u001b[1m7s\u001b[0m 271ms/step - loss: 4.0461e-04 - val_loss: 3.6277e-04\n",
            "Epoch 81/100\n",
            "\u001b[1m19/19\u001b[0m \u001b[32m━━━━━━━━━━━━━━━━━━━━\u001b[0m\u001b[37m\u001b[0m \u001b[1m3s\u001b[0m 178ms/step - loss: 4.3797e-04 - val_loss: 3.7593e-04\n",
            "Epoch 82/100\n",
            "\u001b[1m19/19\u001b[0m \u001b[32m━━━━━━━━━━━━━━━━━━━━\u001b[0m\u001b[37m\u001b[0m \u001b[1m3s\u001b[0m 178ms/step - loss: 4.6673e-04 - val_loss: 4.3173e-04\n",
            "Epoch 83/100\n",
            "\u001b[1m19/19\u001b[0m \u001b[32m━━━━━━━━━━━━━━━━━━━━\u001b[0m\u001b[37m\u001b[0m \u001b[1m6s\u001b[0m 254ms/step - loss: 5.4336e-04 - val_loss: 8.0347e-04\n",
            "Epoch 84/100\n",
            "\u001b[1m19/19\u001b[0m \u001b[32m━━━━━━━━━━━━━━━━━━━━\u001b[0m\u001b[37m\u001b[0m \u001b[1m4s\u001b[0m 185ms/step - loss: 5.3937e-04 - val_loss: 6.4724e-04\n",
            "Epoch 85/100\n",
            "\u001b[1m19/19\u001b[0m \u001b[32m━━━━━━━━━━━━━━━━━━━━\u001b[0m\u001b[37m\u001b[0m \u001b[1m7s\u001b[0m 272ms/step - loss: 5.4196e-04 - val_loss: 3.3447e-04\n",
            "Epoch 86/100\n",
            "\u001b[1m19/19\u001b[0m \u001b[32m━━━━━━━━━━━━━━━━━━━━\u001b[0m\u001b[37m\u001b[0m \u001b[1m5s\u001b[0m 272ms/step - loss: 4.7517e-04 - val_loss: 3.3978e-04\n",
            "Epoch 87/100\n",
            "\u001b[1m19/19\u001b[0m \u001b[32m━━━━━━━━━━━━━━━━━━━━\u001b[0m\u001b[37m\u001b[0m \u001b[1m3s\u001b[0m 180ms/step - loss: 4.0213e-04 - val_loss: 5.4072e-04\n",
            "Epoch 88/100\n",
            "\u001b[1m19/19\u001b[0m \u001b[32m━━━━━━━━━━━━━━━━━━━━\u001b[0m\u001b[37m\u001b[0m \u001b[1m5s\u001b[0m 180ms/step - loss: 3.9016e-04 - val_loss: 4.0743e-04\n",
            "Epoch 89/100\n",
            "\u001b[1m19/19\u001b[0m \u001b[32m━━━━━━━━━━━━━━━━━━━━\u001b[0m\u001b[37m\u001b[0m \u001b[1m6s\u001b[0m 230ms/step - loss: 4.7756e-04 - val_loss: 4.4283e-04\n",
            "Epoch 90/100\n",
            "\u001b[1m19/19\u001b[0m \u001b[32m━━━━━━━━━━━━━━━━━━━━\u001b[0m\u001b[37m\u001b[0m \u001b[1m4s\u001b[0m 178ms/step - loss: 3.6278e-04 - val_loss: 4.9343e-04\n",
            "Epoch 91/100\n",
            "\u001b[1m19/19\u001b[0m \u001b[32m━━━━━━━━━━━━━━━━━━━━\u001b[0m\u001b[37m\u001b[0m \u001b[1m6s\u001b[0m 220ms/step - loss: 4.5598e-04 - val_loss: 5.0149e-04\n",
            "Epoch 92/100\n",
            "\u001b[1m19/19\u001b[0m \u001b[32m━━━━━━━━━━━━━━━━━━━━\u001b[0m\u001b[37m\u001b[0m \u001b[1m4s\u001b[0m 180ms/step - loss: 4.2140e-04 - val_loss: 4.1409e-04\n",
            "Epoch 93/100\n",
            "\u001b[1m19/19\u001b[0m \u001b[32m━━━━━━━━━━━━━━━━━━━━\u001b[0m\u001b[37m\u001b[0m \u001b[1m5s\u001b[0m 179ms/step - loss: 3.9528e-04 - val_loss: 4.1808e-04\n",
            "Epoch 94/100\n",
            "\u001b[1m19/19\u001b[0m \u001b[32m━━━━━━━━━━━━━━━━━━━━\u001b[0m\u001b[37m\u001b[0m \u001b[1m6s\u001b[0m 241ms/step - loss: 3.8830e-04 - val_loss: 6.1863e-04\n",
            "Epoch 95/100\n",
            "\u001b[1m19/19\u001b[0m \u001b[32m━━━━━━━━━━━━━━━━━━━━\u001b[0m\u001b[37m\u001b[0m \u001b[1m4s\u001b[0m 177ms/step - loss: 4.6219e-04 - val_loss: 7.5613e-04\n",
            "Epoch 96/100\n",
            "\u001b[1m19/19\u001b[0m \u001b[32m━━━━━━━━━━━━━━━━━━━━\u001b[0m\u001b[37m\u001b[0m \u001b[1m5s\u001b[0m 194ms/step - loss: 5.4847e-04 - val_loss: 3.7485e-04\n",
            "Epoch 97/100\n",
            "\u001b[1m19/19\u001b[0m \u001b[32m━━━━━━━━━━━━━━━━━━━━\u001b[0m\u001b[37m\u001b[0m \u001b[1m5s\u001b[0m 179ms/step - loss: 3.7505e-04 - val_loss: 6.2728e-04\n",
            "Epoch 98/100\n",
            "\u001b[1m19/19\u001b[0m \u001b[32m━━━━━━━━━━━━━━━━━━━━\u001b[0m\u001b[37m\u001b[0m \u001b[1m3s\u001b[0m 178ms/step - loss: 4.1530e-04 - val_loss: 5.3186e-04\n",
            "Epoch 99/100\n",
            "\u001b[1m19/19\u001b[0m \u001b[32m━━━━━━━━━━━━━━━━━━━━\u001b[0m\u001b[37m\u001b[0m \u001b[1m6s\u001b[0m 249ms/step - loss: 4.9958e-04 - val_loss: 3.4828e-04\n",
            "Epoch 100/100\n",
            "\u001b[1m19/19\u001b[0m \u001b[32m━━━━━━━━━━━━━━━━━━━━\u001b[0m\u001b[37m\u001b[0m \u001b[1m4s\u001b[0m 184ms/step - loss: 3.9574e-04 - val_loss: 4.4274e-04\n"
          ]
        },
        {
          "output_type": "execute_result",
          "data": {
            "text/plain": [
              "<keras.src.callbacks.history.History at 0x7eed367776d0>"
            ]
          },
          "metadata": {},
          "execution_count": 33
        }
      ]
    },
    {
      "cell_type": "code",
      "source": [
        "train_predict = model.predict(X_train)\n",
        "test_predict = model.predict(X_test)"
      ],
      "metadata": {
        "colab": {
          "base_uri": "https://localhost:8080/"
        },
        "id": "Sl7PWg-szYFN",
        "outputId": "d4e906a4-9dbd-48a0-f98b-cfa46c2c4c36"
      },
      "execution_count": null,
      "outputs": [
        {
          "output_type": "stream",
          "name": "stdout",
          "text": [
            "\u001b[1m37/37\u001b[0m \u001b[32m━━━━━━━━━━━━━━━━━━━━\u001b[0m\u001b[37m\u001b[0m \u001b[1m1s\u001b[0m 38ms/step\n",
            "\u001b[1m14/14\u001b[0m \u001b[32m━━━━━━━━━━━━━━━━━━━━\u001b[0m\u001b[37m\u001b[0m \u001b[1m1s\u001b[0m 37ms/step\n"
          ]
        }
      ]
    },
    {
      "cell_type": "code",
      "source": [
        "train_predict = scaler.inverse_transform(train_predict)\n",
        "test_predict = scaler.inverse_transform(test_predict)"
      ],
      "metadata": {
        "id": "C9bK2hbFzsEY"
      },
      "execution_count": null,
      "outputs": []
    },
    {
      "cell_type": "code",
      "source": [
        "pip show keras"
      ],
      "metadata": {
        "colab": {
          "base_uri": "https://localhost:8080/"
        },
        "id": "_Bb0hC7mabti",
        "outputId": "1db37776-f6cd-463e-a697-a36dada66e87"
      },
      "execution_count": null,
      "outputs": [
        {
          "output_type": "stream",
          "name": "stdout",
          "text": [
            "Name: keras\n",
            "Version: 3.3.3\n",
            "Summary: Multi-backend Keras.\n",
            "Home-page: https://github.com/keras-team/keras\n",
            "Author: Keras team\n",
            "Author-email: keras-users@googlegroups.com\n",
            "License: Apache License 2.0\n",
            "Location: /usr/local/lib/python3.10/dist-packages\n",
            "Requires: absl-py, h5py, ml-dtypes, namex, numpy, optree, rich\n",
            "Required-by: tensorflow\n"
          ]
        }
      ]
    },
    {
      "cell_type": "code",
      "source": [
        "print(train_predict)\n"
      ],
      "metadata": {
        "colab": {
          "base_uri": "https://localhost:8080/"
        },
        "id": "G-3gYg2K1N-9",
        "outputId": "fae35370-2952-495b-c8a5-b5c830bd67c1"
      },
      "execution_count": null,
      "outputs": [
        {
          "output_type": "stream",
          "name": "stdout",
          "text": [
            "[[10438.757]\n",
            " [10391.757]\n",
            " [10330.256]\n",
            " ...\n",
            " [18396.209]\n",
            " [17417.88 ]\n",
            " [16917.322]]\n"
          ]
        }
      ]
    },
    {
      "cell_type": "code",
      "source": [
        "model.export(\"saved_model.keras\")"
      ],
      "metadata": {
        "colab": {
          "base_uri": "https://localhost:8080/"
        },
        "id": "5rfDhdgxcFOz",
        "outputId": "bfd68385-fbff-4f23-c1f0-16c7742457e7"
      },
      "execution_count": null,
      "outputs": [
        {
          "output_type": "stream",
          "name": "stdout",
          "text": [
            "Saved artifact at 'saved_model.keras'. The following endpoints are available:\n",
            "\n",
            "* Endpoint 'serve'\n",
            "  args_0 (POSITIONAL_ONLY): TensorSpec(shape=(None, 100, 1), dtype=tf.float32, name='lstm_9_input')\n",
            "Output Type:\n",
            "  TensorSpec(shape=(None, 1), dtype=tf.float32, name=None)\n",
            "Captures:\n",
            "  134971416664672: TensorSpec(shape=(), dtype=tf.resource, name=None)\n",
            "  134971511684288: TensorSpec(shape=(), dtype=tf.resource, name=None)\n",
            "  134971511874032: TensorSpec(shape=(), dtype=tf.resource, name=None)\n",
            "  134971514147008: TensorSpec(shape=(), dtype=tf.resource, name=None)\n",
            "  134971513665696: TensorSpec(shape=(), dtype=tf.resource, name=None)\n",
            "  134971512829232: TensorSpec(shape=(), dtype=tf.resource, name=None)\n",
            "  134971512820080: TensorSpec(shape=(), dtype=tf.resource, name=None)\n",
            "  134971416836256: TensorSpec(shape=(), dtype=tf.resource, name=None)\n",
            "  134971513661296: TensorSpec(shape=(), dtype=tf.resource, name=None)\n",
            "  134971513663760: TensorSpec(shape=(), dtype=tf.resource, name=None)\n",
            "  134971416660976: TensorSpec(shape=(), dtype=tf.resource, name=None)\n"
          ]
        }
      ]
    },
    {
      "cell_type": "code",
      "source": [
        "model.save(\"model.keras\")"
      ],
      "metadata": {
        "id": "b9K4NzCSLyeU"
      },
      "execution_count": null,
      "outputs": []
    },
    {
      "cell_type": "code",
      "source": [
        "model.save(\"mymodel.h5\")"
      ],
      "metadata": {
        "colab": {
          "base_uri": "https://localhost:8080/"
        },
        "id": "1zVDvtb0W5tB",
        "outputId": "7b5670c5-99ec-4381-e448-85debc936e1d"
      },
      "execution_count": null,
      "outputs": [
        {
          "output_type": "stream",
          "name": "stderr",
          "text": [
            "/usr/local/lib/python3.10/dist-packages/keras/src/engine/training.py:3103: UserWarning: You are saving your model as an HDF5 file via `model.save()`. This file format is considered legacy. We recommend using instead the native Keras format, e.g. `model.save('my_model.keras')`.\n",
            "  saving_api.save_model(\n"
          ]
        }
      ]
    },
    {
      "cell_type": "code",
      "source": [
        "import math\n",
        "from sklearn.metrics import mean_squared_error"
      ],
      "metadata": {
        "id": "7U3aXR7Z0Cxi"
      },
      "execution_count": null,
      "outputs": []
    },
    {
      "cell_type": "code",
      "source": [
        "math.sqrt(mean_squared_error(Y_train, train_predict))"
      ],
      "metadata": {
        "colab": {
          "base_uri": "https://localhost:8080/"
        },
        "id": "S_n8CaIV0d3g",
        "outputId": "a788b16c-ffb2-49a8-d1a6-9a58832cc606"
      },
      "execution_count": null,
      "outputs": [
        {
          "output_type": "execute_result",
          "data": {
            "text/plain": [
              "32217.45082864605"
            ]
          },
          "metadata": {},
          "execution_count": 29
        }
      ]
    },
    {
      "cell_type": "code",
      "source": [
        "math.sqrt(mean_squared_error(Y_test, test_predict))"
      ],
      "metadata": {
        "colab": {
          "base_uri": "https://localhost:8080/"
        },
        "id": "oVwSoCVO1AaN",
        "outputId": "9bff6981-bffc-4795-a6ba-a8b250eb6f5f"
      },
      "execution_count": null,
      "outputs": [
        {
          "output_type": "execute_result",
          "data": {
            "text/plain": [
              "40535.562192475794"
            ]
          },
          "metadata": {},
          "execution_count": 30
        }
      ]
    },
    {
      "cell_type": "code",
      "source": [
        "### Plotting\n",
        "# shift train predictions for plotting\n",
        "look_back=100\n",
        "train_Predict_Plot = np.empty_like(new_df)\n",
        "train_Predict_Plot[:, :] = np.nan\n",
        "train_Predict_Plot[look_back:len(train_predict)+look_back, :] = train_predict\n",
        "# shift test predictions for plotting\n",
        "testPredictPlot = np.empty_like(new_df)\n",
        "testPredictPlot[:, :] = np.nan\n",
        "testPredictPlot [len(train_predict)+(look_back*2)+1:len(new_df)-1, :] = test_predict\n",
        "# plot baseline and predictions\n",
        "plt.plot(scaler.inverse_transform(new_df))\n",
        "plt.plot(train_Predict_Plot)\n",
        "plt.plot(testPredictPlot)\n",
        "plt.show()"
      ],
      "metadata": {
        "colab": {
          "base_uri": "https://localhost:8080/",
          "height": 430
        },
        "id": "0SNJcdVN3BpE",
        "outputId": "2143e1d3-554d-41e5-b8a4-c0d28566a852"
      },
      "execution_count": null,
      "outputs": [
        {
          "output_type": "display_data",
          "data": {
            "text/plain": [
              "<Figure size 640x480 with 1 Axes>"
            ],
            "image/png": "[encoded data removed]"
          },
          "metadata": {}
        }
      ]
    },
    {
      "cell_type": "code",
      "source": [
        "dataframe = pd.read_csv(\"/content/BTC-USD.csv\", index_col = False)"
      ],
      "metadata": {
        "id": "ZR2EGa1RYtel"
      },
      "execution_count": null,
      "outputs": []
    },
    {
      "cell_type": "code",
      "source": [
        "len(test_data)"
      ],
      "metadata": {
        "colab": {
          "base_uri": "https://localhost:8080/"
        },
        "id": "UzHCIIHVcOLr",
        "outputId": "4aa0df98-a4c4-4e9f-d344-02b7d66af2e0"
      },
      "execution_count": null,
      "outputs": [
        {
          "output_type": "execute_result",
          "data": {
            "text/plain": [
              "549"
            ]
          },
          "metadata": {},
          "execution_count": 24
        }
      ]
    },
    {
      "cell_type": "code",
      "source": [
        "x_input=test_data[449:].reshape(1,-1)\n",
        "x_input.shape"
      ],
      "metadata": {
        "colab": {
          "base_uri": "https://localhost:8080/"
        },
        "id": "bfGaF7kKb2xI",
        "outputId": "d75db0d0-7cc4-46ca-e468-19c796dd0b52"
      },
      "execution_count": null,
      "outputs": [
        {
          "output_type": "execute_result",
          "data": {
            "text/plain": [
              "(1, 100)"
            ]
          },
          "metadata": {},
          "execution_count": 25
        }
      ]
    },
    {
      "cell_type": "code",
      "source": [
        "temp_input=list(x_input)\n",
        "temp_input=temp_input[0].tolist()"
      ],
      "metadata": {
        "id": "vXZ2ie3GcVnG"
      },
      "execution_count": null,
      "outputs": []
    },
    {
      "cell_type": "code",
      "source": [
        "temp_input"
      ],
      "metadata": {
        "colab": {
          "base_uri": "https://localhost:8080/"
        },
        "id": "h-uz81JkcY_l",
        "outputId": "c922d3aa-dfc0-481d-9680-4bdf861f6ef2"
      },
      "execution_count": null,
      "outputs": [
        {
          "output_type": "execute_result",
          "data": {
            "text/plain": [
              "[0.5595707866855028,\n",
              " 0.5776812207929789,\n",
              " 0.5921182285462685,\n",
              " 0.619214973942786,\n",
              " 0.6283774064383233,\n",
              " 0.6360505794821435,\n",
              " 0.6604851474244884,\n",
              " 0.6573171448015354,\n",
              " 0.6879172170704475,\n",
              " 0.6895594857726721,\n",
              " 0.6928136277789375,\n",
              " 0.6855138592478037,\n",
              " 0.6922607757643598,\n",
              " 0.687219098016547,\n",
              " 0.6946440038056242,\n",
              " 0.68810050701221,\n",
              " 0.6802575212172163,\n",
              " 0.6718446505371661,\n",
              " 0.6841647053466049,\n",
              " 0.6865451232369499,\n",
              " 0.7274943672858676,\n",
              " 0.7651227141535717,\n",
              " 0.8446881552689193,\n",
              " 0.8255080901490708,\n",
              " 0.8437462422515517,\n",
              " 0.8377152805491508,\n",
              " 0.8544158846806712,\n",
              " 0.9302173441133674,\n",
              " 0.8637214622621405,\n",
              " 0.8975713179529708,\n",
              " 0.9095908024808175,\n",
              " 0.9297721950046625,\n",
              " 0.9326907260308679,\n",
              " 0.9403384357661329,\n",
              " 0.9859116789944937,\n",
              " 0.9764770643837677,\n",
              " 1.0,\n",
              " 0.9752336061419797,\n",
              " 0.9459759205205913,\n",
              " 0.8859481204946227,\n",
              " 0.9311013338314105,\n",
              " 0.918739012227432,\n",
              " 0.8359964498828896,\n",
              " 0.9240989239787208,\n",
              " 0.8885360872932809,\n",
              " 0.8633920450451557,\n",
              " 0.8675534034470628,\n",
              " 0.9141228126052969,\n",
              " 0.9541247527488661,\n",
              " 0.9545508617259488,\n",
              " 0.9467330524942106,\n",
              " 0.9656665134996727,\n",
              " 0.9531560000278863,\n",
              " 0.9495219729858781,\n",
              " 0.9743094715681064,\n",
              " 0.9503565271887966,\n",
              " 0.8878839627815439,\n",
              " 0.8957215576885568,\n",
              " 0.9328369679983375,\n",
              " 0.9229826675874616,\n",
              " 0.9385226265797924,\n",
              " 0.9453707654938464,\n",
              " 0.9786803287639834,\n",
              " 0.9420888661725824,\n",
              " 0.9633604782885317,\n",
              " 0.955619288381635,\n",
              " 0.9135604405322489,\n",
              " 0.8640191076858845,\n",
              " 0.8921673615598568,\n",
              " 0.858216054087034,\n",
              " 0.8638780271925379,\n",
              " 0.8266577814592461,\n",
              " 0.8594866387630528,\n",
              " 0.8643435354817988,\n",
              " 0.8812401038412132,\n",
              " 0.8802447408157973,\n",
              " 0.9083016938176526,\n",
              " 0.9019826641107832,\n",
              " 0.8707054628346125,\n",
              " 0.8737123698750868,\n",
              " 0.863047888934772,\n",
              " 0.858112250952475,\n",
              " 0.8536210165352307,\n",
              " 0.8643075771572633,\n",
              " 0.8172639999018789,\n",
              " 0.7822801667371003,\n",
              " 0.7950446250969105,\n",
              " 0.8503412391673575,\n",
              " 0.8650468159951409,\n",
              " 0.8670972431925829,\n",
              " 0.8543362831665391,\n",
              " 0.8421926936697011,\n",
              " 0.8253547941385818,\n",
              " 0.8526921219247814,\n",
              " 0.8195531742809121,\n",
              " 0.8195668808853588,\n",
              " 0.8291786490062143,\n",
              " 0.850511740101378,\n",
              " 0.8307113222630332,\n",
              " 0.8668796007205182]"
            ]
          },
          "metadata": {},
          "execution_count": 48
        }
      ]
    },
    {
      "cell_type": "code",
      "source": [
        "# demonstrate prediction for next 10 days\n",
        "from numpy import array\n",
        "\n",
        "lst_output=[]\n",
        "n_steps=100\n",
        "i=0\n",
        "while(i<30):\n",
        "\n",
        "    if(len(temp_input)>100):\n",
        "        #print(temp_input)\n",
        "        x_input=np.array(temp_input[1:])\n",
        "        print(\"{} day input {}\".format(i,x_input))\n",
        "        x_input=x_input.reshape(1,-1)\n",
        "        x_input = x_input.reshape((1, n_steps, 1))\n",
        "        #print(x_input)\n",
        "        yhat = model.predict(x_input, verbose=0)\n",
        "        print(\"{} day output {}\".format(i,yhat))\n",
        "        temp_input.extend(yhat[0].tolist())\n",
        "        temp_input=temp_input[1:]\n",
        "        #print(temp_input)\n",
        "        lst_output.extend(yhat.tolist())\n",
        "        i=i+1\n",
        "    else:\n",
        "        x_input = x_input.reshape((1, n_steps,1))\n",
        "        yhat = model.predict(x_input, verbose=0)\n",
        "        print(yhat[0])\n",
        "        temp_input.extend(yhat[0].tolist())\n",
        "        print(len(temp_input))\n",
        "        lst_output.extend(yhat.tolist())\n",
        "        i=i+1\n",
        "\n",
        "\n",
        "print(lst_output)"
      ],
      "metadata": {
        "colab": {
          "base_uri": "https://localhost:8080/"
        },
        "id": "7_uQf2NNbS10",
        "outputId": "26d2136e-fcde-46a1-9447-8f97cf97bb8d"
      },
      "execution_count": null,
      "outputs": [
        {
          "output_type": "stream",
          "name": "stdout",
          "text": [
            "[0.8340039]\n",
            "101\n",
            "1 day input [0.57768122 0.59211823 0.61921497 0.62837741 0.63605058 0.66048515\n",
            " 0.65731714 0.68791722 0.68955949 0.69281363 0.68551386 0.69226078\n",
            " 0.6872191  0.694644   0.68810051 0.68025752 0.67184465 0.68416471\n",
            " 0.68654512 0.72749437 0.76512271 0.84468816 0.82550809 0.84374624\n",
            " 0.83771528 0.85441588 0.93021734 0.86372146 0.89757132 0.9095908\n",
            " 0.9297722  0.93269073 0.94033844 0.98591168 0.97647706 1.\n",
            " 0.97523361 0.94597592 0.88594812 0.93110133 0.91873901 0.83599645\n",
            " 0.92409892 0.88853609 0.86339205 0.8675534  0.91412281 0.95412475\n",
            " 0.95455086 0.94673305 0.96566651 0.953156   0.94952197 0.97430947\n",
            " 0.95035653 0.88788396 0.89572156 0.93283697 0.92298267 0.93852263\n",
            " 0.94537077 0.97868033 0.94208887 0.96336048 0.95561929 0.91356044\n",
            " 0.86401911 0.89216736 0.85821605 0.86387803 0.82665778 0.85948664\n",
            " 0.86434354 0.8812401  0.88024474 0.90830169 0.90198266 0.87070546\n",
            " 0.87371237 0.86304789 0.85811225 0.85362102 0.86430758 0.817264\n",
            " 0.78228017 0.79504463 0.85034124 0.86504682 0.86709724 0.85433628\n",
            " 0.84219269 0.82535479 0.85269212 0.81955317 0.81956688 0.82917865\n",
            " 0.85051174 0.83071132 0.8668796  0.83400393]\n",
            "1 day output [[0.8153032]]\n",
            "2 day input [0.59211823 0.61921497 0.62837741 0.63605058 0.66048515 0.65731714\n",
            " 0.68791722 0.68955949 0.69281363 0.68551386 0.69226078 0.6872191\n",
            " 0.694644   0.68810051 0.68025752 0.67184465 0.68416471 0.68654512\n",
            " 0.72749437 0.76512271 0.84468816 0.82550809 0.84374624 0.83771528\n",
            " 0.85441588 0.93021734 0.86372146 0.89757132 0.9095908  0.9297722\n",
            " 0.93269073 0.94033844 0.98591168 0.97647706 1.         0.97523361\n",
            " 0.94597592 0.88594812 0.93110133 0.91873901 0.83599645 0.92409892\n",
            " 0.88853609 0.86339205 0.8675534  0.91412281 0.95412475 0.95455086\n",
            " 0.94673305 0.96566651 0.953156   0.94952197 0.97430947 0.95035653\n",
            " 0.88788396 0.89572156 0.93283697 0.92298267 0.93852263 0.94537077\n",
            " 0.97868033 0.94208887 0.96336048 0.95561929 0.91356044 0.86401911\n",
            " 0.89216736 0.85821605 0.86387803 0.82665778 0.85948664 0.86434354\n",
            " 0.8812401  0.88024474 0.90830169 0.90198266 0.87070546 0.87371237\n",
            " 0.86304789 0.85811225 0.85362102 0.86430758 0.817264   0.78228017\n",
            " 0.79504463 0.85034124 0.86504682 0.86709724 0.85433628 0.84219269\n",
            " 0.82535479 0.85269212 0.81955317 0.81956688 0.82917865 0.85051174\n",
            " 0.83071132 0.8668796  0.83400393 0.81530321]\n",
            "2 day output [[0.7901888]]\n",
            "3 day input [0.61921497 0.62837741 0.63605058 0.66048515 0.65731714 0.68791722\n",
            " 0.68955949 0.69281363 0.68551386 0.69226078 0.6872191  0.694644\n",
            " 0.68810051 0.68025752 0.67184465 0.68416471 0.68654512 0.72749437\n",
            " 0.76512271 0.84468816 0.82550809 0.84374624 0.83771528 0.85441588\n",
            " 0.93021734 0.86372146 0.89757132 0.9095908  0.9297722  0.93269073\n",
            " 0.94033844 0.98591168 0.97647706 1.         0.97523361 0.94597592\n",
            " 0.88594812 0.93110133 0.91873901 0.83599645 0.92409892 0.88853609\n",
            " 0.86339205 0.8675534  0.91412281 0.95412475 0.95455086 0.94673305\n",
            " 0.96566651 0.953156   0.94952197 0.97430947 0.95035653 0.88788396\n",
            " 0.89572156 0.93283697 0.92298267 0.93852263 0.94537077 0.97868033\n",
            " 0.94208887 0.96336048 0.95561929 0.91356044 0.86401911 0.89216736\n",
            " 0.85821605 0.86387803 0.82665778 0.85948664 0.86434354 0.8812401\n",
            " 0.88024474 0.90830169 0.90198266 0.87070546 0.87371237 0.86304789\n",
            " 0.85811225 0.85362102 0.86430758 0.817264   0.78228017 0.79504463\n",
            " 0.85034124 0.86504682 0.86709724 0.85433628 0.84219269 0.82535479\n",
            " 0.85269212 0.81955317 0.81956688 0.82917865 0.85051174 0.83071132\n",
            " 0.8668796  0.83400393 0.81530321 0.79018879]\n",
            "3 day output [[0.7631919]]\n",
            "4 day input [0.62837741 0.63605058 0.66048515 0.65731714 0.68791722 0.68955949\n",
            " 0.69281363 0.68551386 0.69226078 0.6872191  0.694644   0.68810051\n",
            " 0.68025752 0.67184465 0.68416471 0.68654512 0.72749437 0.76512271\n",
            " 0.84468816 0.82550809 0.84374624 0.83771528 0.85441588 0.93021734\n",
            " 0.86372146 0.89757132 0.9095908  0.9297722  0.93269073 0.94033844\n",
            " 0.98591168 0.97647706 1.         0.97523361 0.94597592 0.88594812\n",
            " 0.93110133 0.91873901 0.83599645 0.92409892 0.88853609 0.86339205\n",
            " 0.8675534  0.91412281 0.95412475 0.95455086 0.94673305 0.96566651\n",
            " 0.953156   0.94952197 0.97430947 0.95035653 0.88788396 0.89572156\n",
            " 0.93283697 0.92298267 0.93852263 0.94537077 0.97868033 0.94208887\n",
            " 0.96336048 0.95561929 0.91356044 0.86401911 0.89216736 0.85821605\n",
            " 0.86387803 0.82665778 0.85948664 0.86434354 0.8812401  0.88024474\n",
            " 0.90830169 0.90198266 0.87070546 0.87371237 0.86304789 0.85811225\n",
            " 0.85362102 0.86430758 0.817264   0.78228017 0.79504463 0.85034124\n",
            " 0.86504682 0.86709724 0.85433628 0.84219269 0.82535479 0.85269212\n",
            " 0.81955317 0.81956688 0.82917865 0.85051174 0.83071132 0.8668796\n",
            " 0.83400393 0.81530321 0.79018879 0.76319188]\n",
            "4 day output [[0.7348488]]\n",
            "5 day input [0.63605058 0.66048515 0.65731714 0.68791722 0.68955949 0.69281363\n",
            " 0.68551386 0.69226078 0.6872191  0.694644   0.68810051 0.68025752\n",
            " 0.67184465 0.68416471 0.68654512 0.72749437 0.76512271 0.84468816\n",
            " 0.82550809 0.84374624 0.83771528 0.85441588 0.93021734 0.86372146\n",
            " 0.89757132 0.9095908  0.9297722  0.93269073 0.94033844 0.98591168\n",
            " 0.97647706 1.         0.97523361 0.94597592 0.88594812 0.93110133\n",
            " 0.91873901 0.83599645 0.92409892 0.88853609 0.86339205 0.8675534\n",
            " 0.91412281 0.95412475 0.95455086 0.94673305 0.96566651 0.953156\n",
            " 0.94952197 0.97430947 0.95035653 0.88788396 0.89572156 0.93283697\n",
            " 0.92298267 0.93852263 0.94537077 0.97868033 0.94208887 0.96336048\n",
            " 0.95561929 0.91356044 0.86401911 0.89216736 0.85821605 0.86387803\n",
            " 0.82665778 0.85948664 0.86434354 0.8812401  0.88024474 0.90830169\n",
            " 0.90198266 0.87070546 0.87371237 0.86304789 0.85811225 0.85362102\n",
            " 0.86430758 0.817264   0.78228017 0.79504463 0.85034124 0.86504682\n",
            " 0.86709724 0.85433628 0.84219269 0.82535479 0.85269212 0.81955317\n",
            " 0.81956688 0.82917865 0.85051174 0.83071132 0.8668796  0.83400393\n",
            " 0.81530321 0.79018879 0.76319188 0.7348488 ]\n",
            "5 day output [[0.70665306]]\n",
            "6 day input [0.66048515 0.65731714 0.68791722 0.68955949 0.69281363 0.68551386\n",
            " 0.69226078 0.6872191  0.694644   0.68810051 0.68025752 0.67184465\n",
            " 0.68416471 0.68654512 0.72749437 0.76512271 0.84468816 0.82550809\n",
            " 0.84374624 0.83771528 0.85441588 0.93021734 0.86372146 0.89757132\n",
            " 0.9095908  0.9297722  0.93269073 0.94033844 0.98591168 0.97647706\n",
            " 1.         0.97523361 0.94597592 0.88594812 0.93110133 0.91873901\n",
            " 0.83599645 0.92409892 0.88853609 0.86339205 0.8675534  0.91412281\n",
            " 0.95412475 0.95455086 0.94673305 0.96566651 0.953156   0.94952197\n",
            " 0.97430947 0.95035653 0.88788396 0.89572156 0.93283697 0.92298267\n",
            " 0.93852263 0.94537077 0.97868033 0.94208887 0.96336048 0.95561929\n",
            " 0.91356044 0.86401911 0.89216736 0.85821605 0.86387803 0.82665778\n",
            " 0.85948664 0.86434354 0.8812401  0.88024474 0.90830169 0.90198266\n",
            " 0.87070546 0.87371237 0.86304789 0.85811225 0.85362102 0.86430758\n",
            " 0.817264   0.78228017 0.79504463 0.85034124 0.86504682 0.86709724\n",
            " 0.85433628 0.84219269 0.82535479 0.85269212 0.81955317 0.81956688\n",
            " 0.82917865 0.85051174 0.83071132 0.8668796  0.83400393 0.81530321\n",
            " 0.79018879 0.76319188 0.7348488  0.70665306]\n",
            "6 day output [[0.6800136]]\n",
            "7 day input [0.65731714 0.68791722 0.68955949 0.69281363 0.68551386 0.69226078\n",
            " 0.6872191  0.694644   0.68810051 0.68025752 0.67184465 0.68416471\n",
            " 0.68654512 0.72749437 0.76512271 0.84468816 0.82550809 0.84374624\n",
            " 0.83771528 0.85441588 0.93021734 0.86372146 0.89757132 0.9095908\n",
            " 0.9297722  0.93269073 0.94033844 0.98591168 0.97647706 1.\n",
            " 0.97523361 0.94597592 0.88594812 0.93110133 0.91873901 0.83599645\n",
            " 0.92409892 0.88853609 0.86339205 0.8675534  0.91412281 0.95412475\n",
            " 0.95455086 0.94673305 0.96566651 0.953156   0.94952197 0.97430947\n",
            " 0.95035653 0.88788396 0.89572156 0.93283697 0.92298267 0.93852263\n",
            " 0.94537077 0.97868033 0.94208887 0.96336048 0.95561929 0.91356044\n",
            " 0.86401911 0.89216736 0.85821605 0.86387803 0.82665778 0.85948664\n",
            " 0.86434354 0.8812401  0.88024474 0.90830169 0.90198266 0.87070546\n",
            " 0.87371237 0.86304789 0.85811225 0.85362102 0.86430758 0.817264\n",
            " 0.78228017 0.79504463 0.85034124 0.86504682 0.86709724 0.85433628\n",
            " 0.84219269 0.82535479 0.85269212 0.81955317 0.81956688 0.82917865\n",
            " 0.85051174 0.83071132 0.8668796  0.83400393 0.81530321 0.79018879\n",
            " 0.76319188 0.7348488  0.70665306 0.6800136 ]\n",
            "7 day output [[0.65593684]]\n",
            "8 day input [0.68791722 0.68955949 0.69281363 0.68551386 0.69226078 0.6872191\n",
            " 0.694644   0.68810051 0.68025752 0.67184465 0.68416471 0.68654512\n",
            " 0.72749437 0.76512271 0.84468816 0.82550809 0.84374624 0.83771528\n",
            " 0.85441588 0.93021734 0.86372146 0.89757132 0.9095908  0.9297722\n",
            " 0.93269073 0.94033844 0.98591168 0.97647706 1.         0.97523361\n",
            " 0.94597592 0.88594812 0.93110133 0.91873901 0.83599645 0.92409892\n",
            " 0.88853609 0.86339205 0.8675534  0.91412281 0.95412475 0.95455086\n",
            " 0.94673305 0.96566651 0.953156   0.94952197 0.97430947 0.95035653\n",
            " 0.88788396 0.89572156 0.93283697 0.92298267 0.93852263 0.94537077\n",
            " 0.97868033 0.94208887 0.96336048 0.95561929 0.91356044 0.86401911\n",
            " 0.89216736 0.85821605 0.86387803 0.82665778 0.85948664 0.86434354\n",
            " 0.8812401  0.88024474 0.90830169 0.90198266 0.87070546 0.87371237\n",
            " 0.86304789 0.85811225 0.85362102 0.86430758 0.817264   0.78228017\n",
            " 0.79504463 0.85034124 0.86504682 0.86709724 0.85433628 0.84219269\n",
            " 0.82535479 0.85269212 0.81955317 0.81956688 0.82917865 0.85051174\n",
            " 0.83071132 0.8668796  0.83400393 0.81530321 0.79018879 0.76319188\n",
            " 0.7348488  0.70665306 0.6800136  0.65593684]\n",
            "8 day output [[0.634925]]\n",
            "9 day input [0.68955949 0.69281363 0.68551386 0.69226078 0.6872191  0.694644\n",
            " 0.68810051 0.68025752 0.67184465 0.68416471 0.68654512 0.72749437\n",
            " 0.76512271 0.84468816 0.82550809 0.84374624 0.83771528 0.85441588\n",
            " 0.93021734 0.86372146 0.89757132 0.9095908  0.9297722  0.93269073\n",
            " 0.94033844 0.98591168 0.97647706 1.         0.97523361 0.94597592\n",
            " 0.88594812 0.93110133 0.91873901 0.83599645 0.92409892 0.88853609\n",
            " 0.86339205 0.8675534  0.91412281 0.95412475 0.95455086 0.94673305\n",
            " 0.96566651 0.953156   0.94952197 0.97430947 0.95035653 0.88788396\n",
            " 0.89572156 0.93283697 0.92298267 0.93852263 0.94537077 0.97868033\n",
            " 0.94208887 0.96336048 0.95561929 0.91356044 0.86401911 0.89216736\n",
            " 0.85821605 0.86387803 0.82665778 0.85948664 0.86434354 0.8812401\n",
            " 0.88024474 0.90830169 0.90198266 0.87070546 0.87371237 0.86304789\n",
            " 0.85811225 0.85362102 0.86430758 0.817264   0.78228017 0.79504463\n",
            " 0.85034124 0.86504682 0.86709724 0.85433628 0.84219269 0.82535479\n",
            " 0.85269212 0.81955317 0.81956688 0.82917865 0.85051174 0.83071132\n",
            " 0.8668796  0.83400393 0.81530321 0.79018879 0.76319188 0.7348488\n",
            " 0.70665306 0.6800136  0.65593684 0.63492501]\n",
            "9 day output [[0.61696494]]\n",
            "10 day input [0.69281363 0.68551386 0.69226078 0.6872191  0.694644   0.68810051\n",
            " 0.68025752 0.67184465 0.68416471 0.68654512 0.72749437 0.76512271\n",
            " 0.84468816 0.82550809 0.84374624 0.83771528 0.85441588 0.93021734\n",
            " 0.86372146 0.89757132 0.9095908  0.9297722  0.93269073 0.94033844\n",
            " 0.98591168 0.97647706 1.         0.97523361 0.94597592 0.88594812\n",
            " 0.93110133 0.91873901 0.83599645 0.92409892 0.88853609 0.86339205\n",
            " 0.8675534  0.91412281 0.95412475 0.95455086 0.94673305 0.96566651\n",
            " 0.953156   0.94952197 0.97430947 0.95035653 0.88788396 0.89572156\n",
            " 0.93283697 0.92298267 0.93852263 0.94537077 0.97868033 0.94208887\n",
            " 0.96336048 0.95561929 0.91356044 0.86401911 0.89216736 0.85821605\n",
            " 0.86387803 0.82665778 0.85948664 0.86434354 0.8812401  0.88024474\n",
            " 0.90830169 0.90198266 0.87070546 0.87371237 0.86304789 0.85811225\n",
            " 0.85362102 0.86430758 0.817264   0.78228017 0.79504463 0.85034124\n",
            " 0.86504682 0.86709724 0.85433628 0.84219269 0.82535479 0.85269212\n",
            " 0.81955317 0.81956688 0.82917865 0.85051174 0.83071132 0.8668796\n",
            " 0.83400393 0.81530321 0.79018879 0.76319188 0.7348488  0.70665306\n",
            " 0.6800136  0.65593684 0.63492501 0.61696494]\n",
            "10 day output [[0.6019136]]\n",
            "11 day input [0.68551386 0.69226078 0.6872191  0.694644   0.68810051 0.68025752\n",
            " 0.67184465 0.68416471 0.68654512 0.72749437 0.76512271 0.84468816\n",
            " 0.82550809 0.84374624 0.83771528 0.85441588 0.93021734 0.86372146\n",
            " 0.89757132 0.9095908  0.9297722  0.93269073 0.94033844 0.98591168\n",
            " 0.97647706 1.         0.97523361 0.94597592 0.88594812 0.93110133\n",
            " 0.91873901 0.83599645 0.92409892 0.88853609 0.86339205 0.8675534\n",
            " 0.91412281 0.95412475 0.95455086 0.94673305 0.96566651 0.953156\n",
            " 0.94952197 0.97430947 0.95035653 0.88788396 0.89572156 0.93283697\n",
            " 0.92298267 0.93852263 0.94537077 0.97868033 0.94208887 0.96336048\n",
            " 0.95561929 0.91356044 0.86401911 0.89216736 0.85821605 0.86387803\n",
            " 0.82665778 0.85948664 0.86434354 0.8812401  0.88024474 0.90830169\n",
            " 0.90198266 0.87070546 0.87371237 0.86304789 0.85811225 0.85362102\n",
            " 0.86430758 0.817264   0.78228017 0.79504463 0.85034124 0.86504682\n",
            " 0.86709724 0.85433628 0.84219269 0.82535479 0.85269212 0.81955317\n",
            " 0.81956688 0.82917865 0.85051174 0.83071132 0.8668796  0.83400393\n",
            " 0.81530321 0.79018879 0.76319188 0.7348488  0.70665306 0.6800136\n",
            " 0.65593684 0.63492501 0.61696494 0.60191357]\n",
            "11 day output [[0.58945584]]\n",
            "12 day input [0.69226078 0.6872191  0.694644   0.68810051 0.68025752 0.67184465\n",
            " 0.68416471 0.68654512 0.72749437 0.76512271 0.84468816 0.82550809\n",
            " 0.84374624 0.83771528 0.85441588 0.93021734 0.86372146 0.89757132\n",
            " 0.9095908  0.9297722  0.93269073 0.94033844 0.98591168 0.97647706\n",
            " 1.         0.97523361 0.94597592 0.88594812 0.93110133 0.91873901\n",
            " 0.83599645 0.92409892 0.88853609 0.86339205 0.8675534  0.91412281\n",
            " 0.95412475 0.95455086 0.94673305 0.96566651 0.953156   0.94952197\n",
            " 0.97430947 0.95035653 0.88788396 0.89572156 0.93283697 0.92298267\n",
            " 0.93852263 0.94537077 0.97868033 0.94208887 0.96336048 0.95561929\n",
            " 0.91356044 0.86401911 0.89216736 0.85821605 0.86387803 0.82665778\n",
            " 0.85948664 0.86434354 0.8812401  0.88024474 0.90830169 0.90198266\n",
            " 0.87070546 0.87371237 0.86304789 0.85811225 0.85362102 0.86430758\n",
            " 0.817264   0.78228017 0.79504463 0.85034124 0.86504682 0.86709724\n",
            " 0.85433628 0.84219269 0.82535479 0.85269212 0.81955317 0.81956688\n",
            " 0.82917865 0.85051174 0.83071132 0.8668796  0.83400393 0.81530321\n",
            " 0.79018879 0.76319188 0.7348488  0.70665306 0.6800136  0.65593684\n",
            " 0.63492501 0.61696494 0.60191357 0.58945584]\n",
            "12 day output [[0.57915306]]\n",
            "13 day input [0.6872191  0.694644   0.68810051 0.68025752 0.67184465 0.68416471\n",
            " 0.68654512 0.72749437 0.76512271 0.84468816 0.82550809 0.84374624\n",
            " 0.83771528 0.85441588 0.93021734 0.86372146 0.89757132 0.9095908\n",
            " 0.9297722  0.93269073 0.94033844 0.98591168 0.97647706 1.\n",
            " 0.97523361 0.94597592 0.88594812 0.93110133 0.91873901 0.83599645\n",
            " 0.92409892 0.88853609 0.86339205 0.8675534  0.91412281 0.95412475\n",
            " 0.95455086 0.94673305 0.96566651 0.953156   0.94952197 0.97430947\n",
            " 0.95035653 0.88788396 0.89572156 0.93283697 0.92298267 0.93852263\n",
            " 0.94537077 0.97868033 0.94208887 0.96336048 0.95561929 0.91356044\n",
            " 0.86401911 0.89216736 0.85821605 0.86387803 0.82665778 0.85948664\n",
            " 0.86434354 0.8812401  0.88024474 0.90830169 0.90198266 0.87070546\n",
            " 0.87371237 0.86304789 0.85811225 0.85362102 0.86430758 0.817264\n",
            " 0.78228017 0.79504463 0.85034124 0.86504682 0.86709724 0.85433628\n",
            " 0.84219269 0.82535479 0.85269212 0.81955317 0.81956688 0.82917865\n",
            " 0.85051174 0.83071132 0.8668796  0.83400393 0.81530321 0.79018879\n",
            " 0.76319188 0.7348488  0.70665306 0.6800136  0.65593684 0.63492501\n",
            " 0.61696494 0.60191357 0.58945584 0.57915306]\n",
            "13 day output [[0.5705361]]\n",
            "14 day input [0.694644   0.68810051 0.68025752 0.67184465 0.68416471 0.68654512\n",
            " 0.72749437 0.76512271 0.84468816 0.82550809 0.84374624 0.83771528\n",
            " 0.85441588 0.93021734 0.86372146 0.89757132 0.9095908  0.9297722\n",
            " 0.93269073 0.94033844 0.98591168 0.97647706 1.         0.97523361\n",
            " 0.94597592 0.88594812 0.93110133 0.91873901 0.83599645 0.92409892\n",
            " 0.88853609 0.86339205 0.8675534  0.91412281 0.95412475 0.95455086\n",
            " 0.94673305 0.96566651 0.953156   0.94952197 0.97430947 0.95035653\n",
            " 0.88788396 0.89572156 0.93283697 0.92298267 0.93852263 0.94537077\n",
            " 0.97868033 0.94208887 0.96336048 0.95561929 0.91356044 0.86401911\n",
            " 0.89216736 0.85821605 0.86387803 0.82665778 0.85948664 0.86434354\n",
            " 0.8812401  0.88024474 0.90830169 0.90198266 0.87070546 0.87371237\n",
            " 0.86304789 0.85811225 0.85362102 0.86430758 0.817264   0.78228017\n",
            " 0.79504463 0.85034124 0.86504682 0.86709724 0.85433628 0.84219269\n",
            " 0.82535479 0.85269212 0.81955317 0.81956688 0.82917865 0.85051174\n",
            " 0.83071132 0.8668796  0.83400393 0.81530321 0.79018879 0.76319188\n",
            " 0.7348488  0.70665306 0.6800136  0.65593684 0.63492501 0.61696494\n",
            " 0.60191357 0.58945584 0.57915306 0.57053608]\n",
            "14 day output [[0.5631499]]\n",
            "15 day input [0.68810051 0.68025752 0.67184465 0.68416471 0.68654512 0.72749437\n",
            " 0.76512271 0.84468816 0.82550809 0.84374624 0.83771528 0.85441588\n",
            " 0.93021734 0.86372146 0.89757132 0.9095908  0.9297722  0.93269073\n",
            " 0.94033844 0.98591168 0.97647706 1.         0.97523361 0.94597592\n",
            " 0.88594812 0.93110133 0.91873901 0.83599645 0.92409892 0.88853609\n",
            " 0.86339205 0.8675534  0.91412281 0.95412475 0.95455086 0.94673305\n",
            " 0.96566651 0.953156   0.94952197 0.97430947 0.95035653 0.88788396\n",
            " 0.89572156 0.93283697 0.92298267 0.93852263 0.94537077 0.97868033\n",
            " 0.94208887 0.96336048 0.95561929 0.91356044 0.86401911 0.89216736\n",
            " 0.85821605 0.86387803 0.82665778 0.85948664 0.86434354 0.8812401\n",
            " 0.88024474 0.90830169 0.90198266 0.87070546 0.87371237 0.86304789\n",
            " 0.85811225 0.85362102 0.86430758 0.817264   0.78228017 0.79504463\n",
            " 0.85034124 0.86504682 0.86709724 0.85433628 0.84219269 0.82535479\n",
            " 0.85269212 0.81955317 0.81956688 0.82917865 0.85051174 0.83071132\n",
            " 0.8668796  0.83400393 0.81530321 0.79018879 0.76319188 0.7348488\n",
            " 0.70665306 0.6800136  0.65593684 0.63492501 0.61696494 0.60191357\n",
            " 0.58945584 0.57915306 0.57053608 0.56314993]\n",
            "15 day output [[0.55658233]]\n",
            "16 day input [0.68025752 0.67184465 0.68416471 0.68654512 0.72749437 0.76512271\n",
            " 0.84468816 0.82550809 0.84374624 0.83771528 0.85441588 0.93021734\n",
            " 0.86372146 0.89757132 0.9095908  0.9297722  0.93269073 0.94033844\n",
            " 0.98591168 0.97647706 1.         0.97523361 0.94597592 0.88594812\n",
            " 0.93110133 0.91873901 0.83599645 0.92409892 0.88853609 0.86339205\n",
            " 0.8675534  0.91412281 0.95412475 0.95455086 0.94673305 0.96566651\n",
            " 0.953156   0.94952197 0.97430947 0.95035653 0.88788396 0.89572156\n",
            " 0.93283697 0.92298267 0.93852263 0.94537077 0.97868033 0.94208887\n",
            " 0.96336048 0.95561929 0.91356044 0.86401911 0.89216736 0.85821605\n",
            " 0.86387803 0.82665778 0.85948664 0.86434354 0.8812401  0.88024474\n",
            " 0.90830169 0.90198266 0.87070546 0.87371237 0.86304789 0.85811225\n",
            " 0.85362102 0.86430758 0.817264   0.78228017 0.79504463 0.85034124\n",
            " 0.86504682 0.86709724 0.85433628 0.84219269 0.82535479 0.85269212\n",
            " 0.81955317 0.81956688 0.82917865 0.85051174 0.83071132 0.8668796\n",
            " 0.83400393 0.81530321 0.79018879 0.76319188 0.7348488  0.70665306\n",
            " 0.6800136  0.65593684 0.63492501 0.61696494 0.60191357 0.58945584\n",
            " 0.57915306 0.57053608 0.56314993 0.55658233]\n",
            "16 day output [[0.5504787]]\n",
            "17 day input [0.67184465 0.68416471 0.68654512 0.72749437 0.76512271 0.84468816\n",
            " 0.82550809 0.84374624 0.83771528 0.85441588 0.93021734 0.86372146\n",
            " 0.89757132 0.9095908  0.9297722  0.93269073 0.94033844 0.98591168\n",
            " 0.97647706 1.         0.97523361 0.94597592 0.88594812 0.93110133\n",
            " 0.91873901 0.83599645 0.92409892 0.88853609 0.86339205 0.8675534\n",
            " 0.91412281 0.95412475 0.95455086 0.94673305 0.96566651 0.953156\n",
            " 0.94952197 0.97430947 0.95035653 0.88788396 0.89572156 0.93283697\n",
            " 0.92298267 0.93852263 0.94537077 0.97868033 0.94208887 0.96336048\n",
            " 0.95561929 0.91356044 0.86401911 0.89216736 0.85821605 0.86387803\n",
            " 0.82665778 0.85948664 0.86434354 0.8812401  0.88024474 0.90830169\n",
            " 0.90198266 0.87070546 0.87371237 0.86304789 0.85811225 0.85362102\n",
            " 0.86430758 0.817264   0.78228017 0.79504463 0.85034124 0.86504682\n",
            " 0.86709724 0.85433628 0.84219269 0.82535479 0.85269212 0.81955317\n",
            " 0.81956688 0.82917865 0.85051174 0.83071132 0.8668796  0.83400393\n",
            " 0.81530321 0.79018879 0.76319188 0.7348488  0.70665306 0.6800136\n",
            " 0.65593684 0.63492501 0.61696494 0.60191357 0.58945584 0.57915306\n",
            " 0.57053608 0.56314993 0.55658233 0.5504787 ]\n",
            "17 day output [[0.5445517]]\n",
            "18 day input [0.68416471 0.68654512 0.72749437 0.76512271 0.84468816 0.82550809\n",
            " 0.84374624 0.83771528 0.85441588 0.93021734 0.86372146 0.89757132\n",
            " 0.9095908  0.9297722  0.93269073 0.94033844 0.98591168 0.97647706\n",
            " 1.         0.97523361 0.94597592 0.88594812 0.93110133 0.91873901\n",
            " 0.83599645 0.92409892 0.88853609 0.86339205 0.8675534  0.91412281\n",
            " 0.95412475 0.95455086 0.94673305 0.96566651 0.953156   0.94952197\n",
            " 0.97430947 0.95035653 0.88788396 0.89572156 0.93283697 0.92298267\n",
            " 0.93852263 0.94537077 0.97868033 0.94208887 0.96336048 0.95561929\n",
            " 0.91356044 0.86401911 0.89216736 0.85821605 0.86387803 0.82665778\n",
            " 0.85948664 0.86434354 0.8812401  0.88024474 0.90830169 0.90198266\n",
            " 0.87070546 0.87371237 0.86304789 0.85811225 0.85362102 0.86430758\n",
            " 0.817264   0.78228017 0.79504463 0.85034124 0.86504682 0.86709724\n",
            " 0.85433628 0.84219269 0.82535479 0.85269212 0.81955317 0.81956688\n",
            " 0.82917865 0.85051174 0.83071132 0.8668796  0.83400393 0.81530321\n",
            " 0.79018879 0.76319188 0.7348488  0.70665306 0.6800136  0.65593684\n",
            " 0.63492501 0.61696494 0.60191357 0.58945584 0.57915306 0.57053608\n",
            " 0.56314993 0.55658233 0.5504787  0.54455167]\n",
            "18 day output [[0.538583]]\n",
            "19 day input [0.68654512 0.72749437 0.76512271 0.84468816 0.82550809 0.84374624\n",
            " 0.83771528 0.85441588 0.93021734 0.86372146 0.89757132 0.9095908\n",
            " 0.9297722  0.93269073 0.94033844 0.98591168 0.97647706 1.\n",
            " 0.97523361 0.94597592 0.88594812 0.93110133 0.91873901 0.83599645\n",
            " 0.92409892 0.88853609 0.86339205 0.8675534  0.91412281 0.95412475\n",
            " 0.95455086 0.94673305 0.96566651 0.953156   0.94952197 0.97430947\n",
            " 0.95035653 0.88788396 0.89572156 0.93283697 0.92298267 0.93852263\n",
            " 0.94537077 0.97868033 0.94208887 0.96336048 0.95561929 0.91356044\n",
            " 0.86401911 0.89216736 0.85821605 0.86387803 0.82665778 0.85948664\n",
            " 0.86434354 0.8812401  0.88024474 0.90830169 0.90198266 0.87070546\n",
            " 0.87371237 0.86304789 0.85811225 0.85362102 0.86430758 0.817264\n",
            " 0.78228017 0.79504463 0.85034124 0.86504682 0.86709724 0.85433628\n",
            " 0.84219269 0.82535479 0.85269212 0.81955317 0.81956688 0.82917865\n",
            " 0.85051174 0.83071132 0.8668796  0.83400393 0.81530321 0.79018879\n",
            " 0.76319188 0.7348488  0.70665306 0.6800136  0.65593684 0.63492501\n",
            " 0.61696494 0.60191357 0.58945584 0.57915306 0.57053608 0.56314993\n",
            " 0.55658233 0.5504787  0.54455167 0.53858298]\n",
            "19 day output [[0.53242034]]\n",
            "20 day input [0.72749437 0.76512271 0.84468816 0.82550809 0.84374624 0.83771528\n",
            " 0.85441588 0.93021734 0.86372146 0.89757132 0.9095908  0.9297722\n",
            " 0.93269073 0.94033844 0.98591168 0.97647706 1.         0.97523361\n",
            " 0.94597592 0.88594812 0.93110133 0.91873901 0.83599645 0.92409892\n",
            " 0.88853609 0.86339205 0.8675534  0.91412281 0.95412475 0.95455086\n",
            " 0.94673305 0.96566651 0.953156   0.94952197 0.97430947 0.95035653\n",
            " 0.88788396 0.89572156 0.93283697 0.92298267 0.93852263 0.94537077\n",
            " 0.97868033 0.94208887 0.96336048 0.95561929 0.91356044 0.86401911\n",
            " 0.89216736 0.85821605 0.86387803 0.82665778 0.85948664 0.86434354\n",
            " 0.8812401  0.88024474 0.90830169 0.90198266 0.87070546 0.87371237\n",
            " 0.86304789 0.85811225 0.85362102 0.86430758 0.817264   0.78228017\n",
            " 0.79504463 0.85034124 0.86504682 0.86709724 0.85433628 0.84219269\n",
            " 0.82535479 0.85269212 0.81955317 0.81956688 0.82917865 0.85051174\n",
            " 0.83071132 0.8668796  0.83400393 0.81530321 0.79018879 0.76319188\n",
            " 0.7348488  0.70665306 0.6800136  0.65593684 0.63492501 0.61696494\n",
            " 0.60191357 0.58945584 0.57915306 0.57053608 0.56314993 0.55658233\n",
            " 0.5504787  0.54455167 0.53858298 0.53242034]\n",
            "20 day output [[0.52603585]]\n",
            "21 day input [0.76512271 0.84468816 0.82550809 0.84374624 0.83771528 0.85441588\n",
            " 0.93021734 0.86372146 0.89757132 0.9095908  0.9297722  0.93269073\n",
            " 0.94033844 0.98591168 0.97647706 1.         0.97523361 0.94597592\n",
            " 0.88594812 0.93110133 0.91873901 0.83599645 0.92409892 0.88853609\n",
            " 0.86339205 0.8675534  0.91412281 0.95412475 0.95455086 0.94673305\n",
            " 0.96566651 0.953156   0.94952197 0.97430947 0.95035653 0.88788396\n",
            " 0.89572156 0.93283697 0.92298267 0.93852263 0.94537077 0.97868033\n",
            " 0.94208887 0.96336048 0.95561929 0.91356044 0.86401911 0.89216736\n",
            " 0.85821605 0.86387803 0.82665778 0.85948664 0.86434354 0.8812401\n",
            " 0.88024474 0.90830169 0.90198266 0.87070546 0.87371237 0.86304789\n",
            " 0.85811225 0.85362102 0.86430758 0.817264   0.78228017 0.79504463\n",
            " 0.85034124 0.86504682 0.86709724 0.85433628 0.84219269 0.82535479\n",
            " 0.85269212 0.81955317 0.81956688 0.82917865 0.85051174 0.83071132\n",
            " 0.8668796  0.83400393 0.81530321 0.79018879 0.76319188 0.7348488\n",
            " 0.70665306 0.6800136  0.65593684 0.63492501 0.61696494 0.60191357\n",
            " 0.58945584 0.57915306 0.57053608 0.56314993 0.55658233 0.5504787\n",
            " 0.54455167 0.53858298 0.53242034 0.52603585]\n",
            "21 day output [[0.51941365]]\n",
            "22 day input [0.84468816 0.82550809 0.84374624 0.83771528 0.85441588 0.93021734\n",
            " 0.86372146 0.89757132 0.9095908  0.9297722  0.93269073 0.94033844\n",
            " 0.98591168 0.97647706 1.         0.97523361 0.94597592 0.88594812\n",
            " 0.93110133 0.91873901 0.83599645 0.92409892 0.88853609 0.86339205\n",
            " 0.8675534  0.91412281 0.95412475 0.95455086 0.94673305 0.96566651\n",
            " 0.953156   0.94952197 0.97430947 0.95035653 0.88788396 0.89572156\n",
            " 0.93283697 0.92298267 0.93852263 0.94537077 0.97868033 0.94208887\n",
            " 0.96336048 0.95561929 0.91356044 0.86401911 0.89216736 0.85821605\n",
            " 0.86387803 0.82665778 0.85948664 0.86434354 0.8812401  0.88024474\n",
            " 0.90830169 0.90198266 0.87070546 0.87371237 0.86304789 0.85811225\n",
            " 0.85362102 0.86430758 0.817264   0.78228017 0.79504463 0.85034124\n",
            " 0.86504682 0.86709724 0.85433628 0.84219269 0.82535479 0.85269212\n",
            " 0.81955317 0.81956688 0.82917865 0.85051174 0.83071132 0.8668796\n",
            " 0.83400393 0.81530321 0.79018879 0.76319188 0.7348488  0.70665306\n",
            " 0.6800136  0.65593684 0.63492501 0.61696494 0.60191357 0.58945584\n",
            " 0.57915306 0.57053608 0.56314993 0.55658233 0.5504787  0.54455167\n",
            " 0.53858298 0.53242034 0.52603585 0.51941365]\n",
            "22 day output [[0.51257795]]\n",
            "23 day input [0.82550809 0.84374624 0.83771528 0.85441588 0.93021734 0.86372146\n",
            " 0.89757132 0.9095908  0.9297722  0.93269073 0.94033844 0.98591168\n",
            " 0.97647706 1.         0.97523361 0.94597592 0.88594812 0.93110133\n",
            " 0.91873901 0.83599645 0.92409892 0.88853609 0.86339205 0.8675534\n",
            " 0.91412281 0.95412475 0.95455086 0.94673305 0.96566651 0.953156\n",
            " 0.94952197 0.97430947 0.95035653 0.88788396 0.89572156 0.93283697\n",
            " 0.92298267 0.93852263 0.94537077 0.97868033 0.94208887 0.96336048\n",
            " 0.95561929 0.91356044 0.86401911 0.89216736 0.85821605 0.86387803\n",
            " 0.82665778 0.85948664 0.86434354 0.8812401  0.88024474 0.90830169\n",
            " 0.90198266 0.87070546 0.87371237 0.86304789 0.85811225 0.85362102\n",
            " 0.86430758 0.817264   0.78228017 0.79504463 0.85034124 0.86504682\n",
            " 0.86709724 0.85433628 0.84219269 0.82535479 0.85269212 0.81955317\n",
            " 0.81956688 0.82917865 0.85051174 0.83071132 0.8668796  0.83400393\n",
            " 0.81530321 0.79018879 0.76319188 0.7348488  0.70665306 0.6800136\n",
            " 0.65593684 0.63492501 0.61696494 0.60191357 0.58945584 0.57915306\n",
            " 0.57053608 0.56314993 0.55658233 0.5504787  0.54455167 0.53858298\n",
            " 0.53242034 0.52603585 0.51941365 0.51257795]\n",
            "23 day output [[0.50558287]]\n",
            "24 day input [0.84374624 0.83771528 0.85441588 0.93021734 0.86372146 0.89757132\n",
            " 0.9095908  0.9297722  0.93269073 0.94033844 0.98591168 0.97647706\n",
            " 1.         0.97523361 0.94597592 0.88594812 0.93110133 0.91873901\n",
            " 0.83599645 0.92409892 0.88853609 0.86339205 0.8675534  0.91412281\n",
            " 0.95412475 0.95455086 0.94673305 0.96566651 0.953156   0.94952197\n",
            " 0.97430947 0.95035653 0.88788396 0.89572156 0.93283697 0.92298267\n",
            " 0.93852263 0.94537077 0.97868033 0.94208887 0.96336048 0.95561929\n",
            " 0.91356044 0.86401911 0.89216736 0.85821605 0.86387803 0.82665778\n",
            " 0.85948664 0.86434354 0.8812401  0.88024474 0.90830169 0.90198266\n",
            " 0.87070546 0.87371237 0.86304789 0.85811225 0.85362102 0.86430758\n",
            " 0.817264   0.78228017 0.79504463 0.85034124 0.86504682 0.86709724\n",
            " 0.85433628 0.84219269 0.82535479 0.85269212 0.81955317 0.81956688\n",
            " 0.82917865 0.85051174 0.83071132 0.8668796  0.83400393 0.81530321\n",
            " 0.79018879 0.76319188 0.7348488  0.70665306 0.6800136  0.65593684\n",
            " 0.63492501 0.61696494 0.60191357 0.58945584 0.57915306 0.57053608\n",
            " 0.56314993 0.55658233 0.5504787  0.54455167 0.53858298 0.53242034\n",
            " 0.52603585 0.51941365 0.51257795 0.50558287]\n",
            "24 day output [[0.49849072]]\n",
            "25 day input [0.83771528 0.85441588 0.93021734 0.86372146 0.89757132 0.9095908\n",
            " 0.9297722  0.93269073 0.94033844 0.98591168 0.97647706 1.\n",
            " 0.97523361 0.94597592 0.88594812 0.93110133 0.91873901 0.83599645\n",
            " 0.92409892 0.88853609 0.86339205 0.8675534  0.91412281 0.95412475\n",
            " 0.95455086 0.94673305 0.96566651 0.953156   0.94952197 0.97430947\n",
            " 0.95035653 0.88788396 0.89572156 0.93283697 0.92298267 0.93852263\n",
            " 0.94537077 0.97868033 0.94208887 0.96336048 0.95561929 0.91356044\n",
            " 0.86401911 0.89216736 0.85821605 0.86387803 0.82665778 0.85948664\n",
            " 0.86434354 0.8812401  0.88024474 0.90830169 0.90198266 0.87070546\n",
            " 0.87371237 0.86304789 0.85811225 0.85362102 0.86430758 0.817264\n",
            " 0.78228017 0.79504463 0.85034124 0.86504682 0.86709724 0.85433628\n",
            " 0.84219269 0.82535479 0.85269212 0.81955317 0.81956688 0.82917865\n",
            " 0.85051174 0.83071132 0.8668796  0.83400393 0.81530321 0.79018879\n",
            " 0.76319188 0.7348488  0.70665306 0.6800136  0.65593684 0.63492501\n",
            " 0.61696494 0.60191357 0.58945584 0.57915306 0.57053608 0.56314993\n",
            " 0.55658233 0.5504787  0.54455167 0.53858298 0.53242034 0.52603585\n",
            " 0.51941365 0.51257795 0.50558287 0.49849072]\n",
            "25 day output [[0.49137467]]\n",
            "26 day input [0.85441588 0.93021734 0.86372146 0.89757132 0.9095908  0.9297722\n",
            " 0.93269073 0.94033844 0.98591168 0.97647706 1.         0.97523361\n",
            " 0.94597592 0.88594812 0.93110133 0.91873901 0.83599645 0.92409892\n",
            " 0.88853609 0.86339205 0.8675534  0.91412281 0.95412475 0.95455086\n",
            " 0.94673305 0.96566651 0.953156   0.94952197 0.97430947 0.95035653\n",
            " 0.88788396 0.89572156 0.93283697 0.92298267 0.93852263 0.94537077\n",
            " 0.97868033 0.94208887 0.96336048 0.95561929 0.91356044 0.86401911\n",
            " 0.89216736 0.85821605 0.86387803 0.82665778 0.85948664 0.86434354\n",
            " 0.8812401  0.88024474 0.90830169 0.90198266 0.87070546 0.87371237\n",
            " 0.86304789 0.85811225 0.85362102 0.86430758 0.817264   0.78228017\n",
            " 0.79504463 0.85034124 0.86504682 0.86709724 0.85433628 0.84219269\n",
            " 0.82535479 0.85269212 0.81955317 0.81956688 0.82917865 0.85051174\n",
            " 0.83071132 0.8668796  0.83400393 0.81530321 0.79018879 0.76319188\n",
            " 0.7348488  0.70665306 0.6800136  0.65593684 0.63492501 0.61696494\n",
            " 0.60191357 0.58945584 0.57915306 0.57053608 0.56314993 0.55658233\n",
            " 0.5504787  0.54455167 0.53858298 0.53242034 0.52603585 0.51941365\n",
            " 0.51257795 0.50558287 0.49849072 0.49137467]\n",
            "26 day output [[0.48430416]]\n",
            "27 day input [0.93021734 0.86372146 0.89757132 0.9095908  0.9297722  0.93269073\n",
            " 0.94033844 0.98591168 0.97647706 1.         0.97523361 0.94597592\n",
            " 0.88594812 0.93110133 0.91873901 0.83599645 0.92409892 0.88853609\n",
            " 0.86339205 0.8675534  0.91412281 0.95412475 0.95455086 0.94673305\n",
            " 0.96566651 0.953156   0.94952197 0.97430947 0.95035653 0.88788396\n",
            " 0.89572156 0.93283697 0.92298267 0.93852263 0.94537077 0.97868033\n",
            " 0.94208887 0.96336048 0.95561929 0.91356044 0.86401911 0.89216736\n",
            " 0.85821605 0.86387803 0.82665778 0.85948664 0.86434354 0.8812401\n",
            " 0.88024474 0.90830169 0.90198266 0.87070546 0.87371237 0.86304789\n",
            " 0.85811225 0.85362102 0.86430758 0.817264   0.78228017 0.79504463\n",
            " 0.85034124 0.86504682 0.86709724 0.85433628 0.84219269 0.82535479\n",
            " 0.85269212 0.81955317 0.81956688 0.82917865 0.85051174 0.83071132\n",
            " 0.8668796  0.83400393 0.81530321 0.79018879 0.76319188 0.7348488\n",
            " 0.70665306 0.6800136  0.65593684 0.63492501 0.61696494 0.60191357\n",
            " 0.58945584 0.57915306 0.57053608 0.56314993 0.55658233 0.5504787\n",
            " 0.54455167 0.53858298 0.53242034 0.52603585 0.51941365 0.51257795\n",
            " 0.50558287 0.49849072 0.49137467 0.48430416]\n",
            "27 day output [[0.47734407]]\n",
            "28 day input [0.86372146 0.89757132 0.9095908  0.9297722  0.93269073 0.94033844\n",
            " 0.98591168 0.97647706 1.         0.97523361 0.94597592 0.88594812\n",
            " 0.93110133 0.91873901 0.83599645 0.92409892 0.88853609 0.86339205\n",
            " 0.8675534  0.91412281 0.95412475 0.95455086 0.94673305 0.96566651\n",
            " 0.953156   0.94952197 0.97430947 0.95035653 0.88788396 0.89572156\n",
            " 0.93283697 0.92298267 0.93852263 0.94537077 0.97868033 0.94208887\n",
            " 0.96336048 0.95561929 0.91356044 0.86401911 0.89216736 0.85821605\n",
            " 0.86387803 0.82665778 0.85948664 0.86434354 0.8812401  0.88024474\n",
            " 0.90830169 0.90198266 0.87070546 0.87371237 0.86304789 0.85811225\n",
            " 0.85362102 0.86430758 0.817264   0.78228017 0.79504463 0.85034124\n",
            " 0.86504682 0.86709724 0.85433628 0.84219269 0.82535479 0.85269212\n",
            " 0.81955317 0.81956688 0.82917865 0.85051174 0.83071132 0.8668796\n",
            " 0.83400393 0.81530321 0.79018879 0.76319188 0.7348488  0.70665306\n",
            " 0.6800136  0.65593684 0.63492501 0.61696494 0.60191357 0.58945584\n",
            " 0.57915306 0.57053608 0.56314993 0.55658233 0.5504787  0.54455167\n",
            " 0.53858298 0.53242034 0.52603585 0.51941365 0.51257795 0.50558287\n",
            " 0.49849072 0.49137467 0.48430416 0.47734407]\n",
            "28 day output [[0.47054887]]\n",
            "29 day input [0.89757132 0.9095908  0.9297722  0.93269073 0.94033844 0.98591168\n",
            " 0.97647706 1.         0.97523361 0.94597592 0.88594812 0.93110133\n",
            " 0.91873901 0.83599645 0.92409892 0.88853609 0.86339205 0.8675534\n",
            " 0.91412281 0.95412475 0.95455086 0.94673305 0.96566651 0.953156\n",
            " 0.94952197 0.97430947 0.95035653 0.88788396 0.89572156 0.93283697\n",
            " 0.92298267 0.93852263 0.94537077 0.97868033 0.94208887 0.96336048\n",
            " 0.95561929 0.91356044 0.86401911 0.89216736 0.85821605 0.86387803\n",
            " 0.82665778 0.85948664 0.86434354 0.8812401  0.88024474 0.90830169\n",
            " 0.90198266 0.87070546 0.87371237 0.86304789 0.85811225 0.85362102\n",
            " 0.86430758 0.817264   0.78228017 0.79504463 0.85034124 0.86504682\n",
            " 0.86709724 0.85433628 0.84219269 0.82535479 0.85269212 0.81955317\n",
            " 0.81956688 0.82917865 0.85051174 0.83071132 0.8668796  0.83400393\n",
            " 0.81530321 0.79018879 0.76319188 0.7348488  0.70665306 0.6800136\n",
            " 0.65593684 0.63492501 0.61696494 0.60191357 0.58945584 0.57915306\n",
            " 0.57053608 0.56314993 0.55658233 0.5504787  0.54455167 0.53858298\n",
            " 0.53242034 0.52603585 0.51941365 0.51257795 0.50558287 0.49849072\n",
            " 0.49137467 0.48430416 0.47734407 0.47054887]\n",
            "29 day output [[0.46395546]]\n",
            "[[0.8340039253234863], [0.8153032064437866], [0.7901887893676758], [0.7631918787956238], [0.7348487973213196], [0.7066530585289001], [0.6800135970115662], [0.6559368371963501], [0.6349250078201294], [0.6169649362564087], [0.601913571357727], [0.5894558429718018], [0.5791530609130859], [0.5705360770225525], [0.5631499290466309], [0.5565823316574097], [0.5504786968231201], [0.5445516705513], [0.538582980632782], [0.5324203372001648], [0.5260358452796936], [0.5194136500358582], [0.5125779509544373], [0.505582869052887], [0.49849072098731995], [0.491374671459198], [0.48430415987968445], [0.4773440659046173], [0.4705488681793213], [0.46395546197891235]]\n"
          ]
        }
      ]
    },
    {
      "cell_type": "code",
      "source": [
        "day_new=np.arange(1,101)\n",
        "day_pred=np.arange(101,131)"
      ],
      "metadata": {
        "id": "Vlw2a9qGqdYv"
      },
      "execution_count": null,
      "outputs": []
    },
    {
      "cell_type": "code",
      "source": [
        "import matplotlib.pyplot as plt"
      ],
      "metadata": {
        "id": "9BHjxwOhq4U8"
      },
      "execution_count": null,
      "outputs": []
    },
    {
      "cell_type": "code",
      "source": [
        "len(lst_output)"
      ],
      "metadata": {
        "colab": {
          "base_uri": "https://localhost:8080/"
        },
        "id": "bCg2CAAsq7CE",
        "outputId": "8523ec64-09e3-4503-9fb5-d6256901ce14"
      },
      "execution_count": null,
      "outputs": [
        {
          "output_type": "execute_result",
          "data": {
            "text/plain": [
              "30"
            ]
          },
          "metadata": {},
          "execution_count": 31
        }
      ]
    },
    {
      "cell_type": "code",
      "source": [
        "print(df1)"
      ],
      "metadata": {
        "colab": {
          "base_uri": "https://localhost:8080/"
        },
        "id": "zb69g_9-eJqF",
        "outputId": "04be83a7-1959-4c63-aff7-7a12c6f20572"
      },
      "execution_count": null,
      "outputs": [
        {
          "output_type": "stream",
          "name": "stdout",
          "text": [
            "0        8205.167969\n",
            "1        7884.909180\n",
            "2        7343.895508\n",
            "3        7271.208008\n",
            "4        8197.689453\n",
            "            ...     \n",
            "1823    60793.710938\n",
            "1824    61448.394531\n",
            "1825    62901.449219\n",
            "1826    61552.789063\n",
            "1827    64016.308594\n",
            "Name: Close, Length: 1828, dtype: float64\n"
          ]
        }
      ]
    },
    {
      "cell_type": "code",
      "source": [
        "plt.plot(day_pred,scaler.inverse_transform(lst_output))"
      ],
      "metadata": {
        "colab": {
          "base_uri": "https://localhost:8080/",
          "height": 447
        },
        "id": "Qm5w4-nzeRzG",
        "outputId": "805cf6eb-1032-445f-98ca-de16d3bf2c62"
      },
      "execution_count": null,
      "outputs": [
        {
          "output_type": "execute_result",
          "data": {
            "text/plain": [
              "[<matplotlib.lines.Line2D at 0x7ea0c521c8e0>]"
            ]
          },
          "metadata": {},
          "execution_count": 37
        },
        {
          "output_type": "display_data",
          "data": {
            "text/plain": [
              "<Figure size 640x480 with 1 Axes>"
            ],
            "image/png": "[encoded data removed]"
          },
          "metadata": {}
        }
      ]
    },
    {
      "cell_type": "code",
      "source": [],
      "metadata": {
        "id": "uRKho3IG945F"
      },
      "execution_count": null,
      "outputs": []
    }
  ]
}